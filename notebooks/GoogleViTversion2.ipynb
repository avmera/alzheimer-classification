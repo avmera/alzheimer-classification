{
  "cells": [
    {
      "cell_type": "raw",
      "metadata": {
        "id": "teNG_2sxa3pr"
      },
      "source": [
        "# Transformers installation\n",
        "! pip install transformers datasets\n",
        "# To install from source instead of the last release, comment the command above and uncomment the following one.\n",
        "# ! pip install git+https://github.com/huggingface/transformers.git"
      ]
    },
    {
      "cell_type": "raw",
      "metadata": {
        "cellView": "form",
        "hide_input": true,
        "id": "4IXkRZTfa3pt",
        "outputId": "6fa90683-3706-47c9-e4f9-a170d5845234"
      },
      "source": [
        "#@title\n",
        "from IPython.display import HTML\n",
        "\n",
        "HTML('<iframe width=\"560\" height=\"315\" src=\"https://www.youtube.com/embed/tjAIM7BOYhw?rel=0&amp;controls=0&amp;showinfo=0\" frameborder=\"0\" allowfullscreen></iframe>')"
      ]
    },
    {
      "cell_type": "code",
      "execution_count": 1,
      "metadata": {},
      "outputs": [],
      "source": [
        "model_checkpoint = \"google/vit-base-patch16-224-in21k\"  # pre-trained model from which to fine-tune"
      ]
    },
    {
      "cell_type": "code",
      "execution_count": 2,
      "metadata": {},
      "outputs": [],
      "source": [
        "from datasets import load_dataset"
      ]
    },
    {
      "cell_type": "code",
      "execution_count": 3,
      "metadata": {},
      "outputs": [
        {
          "data": {
            "application/vnd.jupyter.widget-view+json": {
              "model_id": "81c0a610f30c43c5ba9e917df71737f5",
              "version_major": 2,
              "version_minor": 0
            },
            "text/plain": [
              "Resolving data files:   0%|          | 0/12719 [00:00<?, ?it/s]"
            ]
          },
          "metadata": {},
          "output_type": "display_data"
        }
      ],
      "source": [
        "data = load_dataset('imagefolder', data_dir=\"new\")"
      ]
    },
    {
      "cell_type": "code",
      "execution_count": 4,
      "metadata": {},
      "outputs": [
        {
          "data": {
            "text/plain": [
              "DatasetDict({\n",
              "    train: Dataset({\n",
              "        features: ['image', 'label'],\n",
              "        num_rows: 12719\n",
              "    })\n",
              "})"
            ]
          },
          "execution_count": 4,
          "metadata": {},
          "output_type": "execute_result"
        }
      ],
      "source": [
        "data"
      ]
    },
    {
      "cell_type": "code",
      "execution_count": 5,
      "metadata": {},
      "outputs": [],
      "source": [
        "data = data['train'].train_test_split(test_size = 0.1, shuffle = True)\n",
        "train_ds = data['train']\n",
        "val_ds = data['test']"
      ]
    },
    {
      "cell_type": "code",
      "execution_count": 6,
      "metadata": {},
      "outputs": [
        {
          "data": {
            "text/plain": [
              "Dataset({\n",
              "    features: ['image', 'label'],\n",
              "    num_rows: 11447\n",
              "})"
            ]
          },
          "execution_count": 6,
          "metadata": {},
          "output_type": "execute_result"
        }
      ],
      "source": [
        "train_ds"
      ]
    },
    {
      "cell_type": "code",
      "execution_count": 7,
      "metadata": {},
      "outputs": [
        {
          "data": {
            "text/plain": [
              "Dataset({\n",
              "    features: ['image', 'label'],\n",
              "    num_rows: 1272\n",
              "})"
            ]
          },
          "execution_count": 7,
          "metadata": {},
          "output_type": "execute_result"
        }
      ],
      "source": [
        "val_ds"
      ]
    },
    {
      "cell_type": "code",
      "execution_count": 8,
      "metadata": {},
      "outputs": [
        {
          "data": {
            "application/vnd.jupyter.widget-view+json": {
              "model_id": "236250c5e3b64f388b200e0a67ea1b58",
              "version_major": 2,
              "version_minor": 0
            },
            "text/plain": [
              "Resolving data files:   0%|          | 0/600 [00:00<?, ?it/s]"
            ]
          },
          "metadata": {},
          "output_type": "display_data"
        }
      ],
      "source": [
        "test_ds = load_dataset('imagefolder', data_dir='Benchmark/')['train']"
      ]
    },
    {
      "cell_type": "code",
      "execution_count": 9,
      "metadata": {
        "id": "aKeE2LhCa3pw",
        "outputId": "bb97888f-cf01-40ea-e51f-205c69c4f3a3"
      },
      "outputs": [
        {
          "data": {
            "text/plain": [
              "{'image': <PIL.JpegImagePlugin.JpegImageFile image mode=L size=182x182>,\n",
              " 'label': 1}"
            ]
          },
          "execution_count": 9,
          "metadata": {},
          "output_type": "execute_result"
        }
      ],
      "source": [
        "train_ds[0]"
      ]
    },
    {
      "cell_type": "code",
      "execution_count": 10,
      "metadata": {
        "id": "2u93UVQqa3pw"
      },
      "outputs": [
        {
          "data": {
            "text/plain": [
              "{'Mild_Demented': '0',\n",
              " 'Moderate_Demented': '1',\n",
              " 'Non_Demented': '2',\n",
              " 'Very_Mild_Demented': '3'}"
            ]
          },
          "execution_count": 10,
          "metadata": {},
          "output_type": "execute_result"
        }
      ],
      "source": [
        "labels = data['train'].features[\"label\"].names\n",
        "label2id, id2label = dict(), dict()\n",
        "for i, label in enumerate(labels):\n",
        "    label2id[label] = str(i)\n",
        "    id2label[str(i)] = label\n",
        "\n",
        "label2id"
      ]
    },
    {
      "cell_type": "code",
      "execution_count": 11,
      "metadata": {
        "id": "43HIRYsia3px"
      },
      "outputs": [],
      "source": [
        "from transformers import AutoImageProcessor\n",
        "\n",
        "checkpoint = \"google/vit-base-patch16-224-in21k\"\n",
        "image_processor = AutoImageProcessor.from_pretrained(checkpoint)"
      ]
    },
    {
      "cell_type": "code",
      "execution_count": 12,
      "metadata": {
        "id": "T_vMZHX3a3px"
      },
      "outputs": [],
      "source": [
        "from torchvision.transforms import RandomResizedCrop, Compose, Normalize, ToTensor\n",
        "\n",
        "normalize = Normalize(mean=image_processor.image_mean, std=image_processor.image_std)\n",
        "size = (\n",
        "    image_processor.size[\"shortest_edge\"]\n",
        "    if \"shortest_edge\" in image_processor.size\n",
        "    else (image_processor.size[\"height\"], image_processor.size[\"width\"])\n",
        ")\n",
        "_transforms = Compose([RandomResizedCrop(size), ToTensor(), normalize])"
      ]
    },
    {
      "cell_type": "code",
      "execution_count": 13,
      "metadata": {
        "id": "1zRc-J43a3px"
      },
      "outputs": [],
      "source": [
        "def transforms(examples):\n",
        "    examples[\"pixel_values\"] = [_transforms(img.convert(\"RGB\")) for img in examples[\"image\"]]\n",
        "    del examples[\"image\"]\n",
        "    return examples"
      ]
    },
    {
      "cell_type": "code",
      "execution_count": 14,
      "metadata": {
        "id": "YA5gxWFua3px"
      },
      "outputs": [],
      "source": [
        "train_ds = train_ds.with_transform(transforms)\n",
        "val_ds = val_ds.with_transform(transforms)\n",
        "test_ds = test_ds.with_transform(transforms)"
      ]
    },
    {
      "cell_type": "code",
      "execution_count": 15,
      "metadata": {
        "id": "r5ojEskZa3px"
      },
      "outputs": [],
      "source": [
        "from transformers import DefaultDataCollator\n",
        "\n",
        "data_collator = DefaultDataCollator()"
      ]
    },
    {
      "cell_type": "code",
      "execution_count": 16,
      "metadata": {
        "id": "MZ6MPRoUa3py"
      },
      "outputs": [],
      "source": [
        "import evaluate\n",
        "\n",
        "accuracy = evaluate.load(\"accuracy\")"
      ]
    },
    {
      "cell_type": "code",
      "execution_count": 17,
      "metadata": {
        "id": "VETHjvB9a3py"
      },
      "outputs": [],
      "source": [
        "import numpy as np\n",
        "\n",
        "\n",
        "def compute_metrics(eval_pred):\n",
        "    predictions, labels = eval_pred\n",
        "    predictions = np.argmax(predictions, axis=1)\n",
        "    return accuracy.compute(predictions=predictions, references=labels)"
      ]
    },
    {
      "cell_type": "code",
      "execution_count": 18,
      "metadata": {
        "id": "ZQhwsrQCa3py"
      },
      "outputs": [
        {
          "name": "stderr",
          "output_type": "stream",
          "text": [
            "Some weights of ViTForImageClassification were not initialized from the model checkpoint at google/vit-base-patch16-224-in21k and are newly initialized: ['classifier.bias', 'classifier.weight']\n",
            "You should probably TRAIN this model on a down-stream task to be able to use it for predictions and inference.\n"
          ]
        }
      ],
      "source": [
        "from transformers import AutoModelForImageClassification, TrainingArguments, Trainer\n",
        "\n",
        "model = AutoModelForImageClassification.from_pretrained(\n",
        "    checkpoint,\n",
        "    num_labels=len(labels),\n",
        "    id2label=id2label,\n",
        "    label2id=label2id,\n",
        ")"
      ]
    },
    {
      "cell_type": "code",
      "execution_count": 19,
      "metadata": {
        "id": "_NnsGz8va3py"
      },
      "outputs": [
        {
          "name": "stderr",
          "output_type": "stream",
          "text": [
            "Cloning https://huggingface.co/AhmadHakami/alzheimer-image-classification-google-vit-base-patch16 into local empty directory.\n",
            "c:\\Users\\User\\anaconda3\\envs\\sic2\\Lib\\site-packages\\transformers\\optimization.py:411: FutureWarning: This implementation of AdamW is deprecated and will be removed in a future version. Use the PyTorch implementation torch.optim.AdamW instead, or set `no_deprecation_warning=True` to disable this warning\n",
            "  warnings.warn(\n"
          ]
        },
        {
          "data": {
            "application/vnd.jupyter.widget-view+json": {
              "model_id": "ccff8f42c0e04b978d18947ca0c55d31",
              "version_major": 2,
              "version_minor": 0
            },
            "text/plain": [
              "  0%|          | 0/7150 [00:00<?, ?it/s]"
            ]
          },
          "metadata": {},
          "output_type": "display_data"
        },
        {
          "name": "stdout",
          "output_type": "stream",
          "text": [
            "{'loss': 1.403, 'learning_rate': 6.993006993006994e-07, 'epoch': 0.01}\n",
            "{'loss': 1.3965, 'learning_rate': 1.3986013986013987e-06, 'epoch': 0.03}\n",
            "{'loss': 1.396, 'learning_rate': 2.0979020979020983e-06, 'epoch': 0.04}\n",
            "{'loss': 1.3901, 'learning_rate': 2.7972027972027974e-06, 'epoch': 0.06}\n",
            "{'loss': 1.3696, 'learning_rate': 3.496503496503497e-06, 'epoch': 0.07}\n",
            "{'loss': 1.3617, 'learning_rate': 4.195804195804197e-06, 'epoch': 0.08}\n",
            "{'loss': 1.3571, 'learning_rate': 4.895104895104895e-06, 'epoch': 0.1}\n",
            "{'loss': 1.3373, 'learning_rate': 5.594405594405595e-06, 'epoch': 0.11}\n",
            "{'loss': 1.3147, 'learning_rate': 6.2937062937062944e-06, 'epoch': 0.13}\n",
            "{'loss': 1.2924, 'learning_rate': 6.993006993006994e-06, 'epoch': 0.14}\n",
            "{'loss': 1.2683, 'learning_rate': 7.692307692307694e-06, 'epoch': 0.15}\n",
            "{'loss': 1.2507, 'learning_rate': 8.391608391608393e-06, 'epoch': 0.17}\n",
            "{'loss': 1.2024, 'learning_rate': 9.090909090909091e-06, 'epoch': 0.18}\n",
            "{'loss': 1.1831, 'learning_rate': 9.79020979020979e-06, 'epoch': 0.2}\n",
            "{'loss': 1.1643, 'learning_rate': 1.048951048951049e-05, 'epoch': 0.21}\n",
            "{'loss': 1.1228, 'learning_rate': 1.118881118881119e-05, 'epoch': 0.22}\n",
            "{'loss': 1.0928, 'learning_rate': 1.188811188811189e-05, 'epoch': 0.24}\n",
            "{'loss': 1.0903, 'learning_rate': 1.2587412587412589e-05, 'epoch': 0.25}\n",
            "{'loss': 1.0782, 'learning_rate': 1.3286713286713287e-05, 'epoch': 0.27}\n",
            "{'loss': 1.0797, 'learning_rate': 1.3986013986013988e-05, 'epoch': 0.28}\n",
            "{'loss': 1.0694, 'learning_rate': 1.4685314685314686e-05, 'epoch': 0.29}\n",
            "{'loss': 1.0409, 'learning_rate': 1.5384615384615387e-05, 'epoch': 0.31}\n",
            "{'loss': 1.0176, 'learning_rate': 1.6083916083916083e-05, 'epoch': 0.32}\n",
            "{'loss': 0.9318, 'learning_rate': 1.6783216783216786e-05, 'epoch': 0.34}\n",
            "{'loss': 0.96, 'learning_rate': 1.7482517482517483e-05, 'epoch': 0.35}\n",
            "{'loss': 0.9863, 'learning_rate': 1.8181818181818182e-05, 'epoch': 0.36}\n",
            "{'loss': 0.9543, 'learning_rate': 1.888111888111888e-05, 'epoch': 0.38}\n",
            "{'loss': 0.96, 'learning_rate': 1.958041958041958e-05, 'epoch': 0.39}\n",
            "{'loss': 0.9167, 'learning_rate': 2.027972027972028e-05, 'epoch': 0.41}\n",
            "{'loss': 0.8684, 'learning_rate': 2.097902097902098e-05, 'epoch': 0.42}\n",
            "{'loss': 0.9117, 'learning_rate': 2.1678321678321677e-05, 'epoch': 0.43}\n",
            "{'loss': 0.9154, 'learning_rate': 2.237762237762238e-05, 'epoch': 0.45}\n",
            "{'loss': 0.8689, 'learning_rate': 2.307692307692308e-05, 'epoch': 0.46}\n",
            "{'loss': 0.8356, 'learning_rate': 2.377622377622378e-05, 'epoch': 0.48}\n",
            "{'loss': 0.8642, 'learning_rate': 2.4475524475524478e-05, 'epoch': 0.49}\n",
            "{'loss': 0.8935, 'learning_rate': 2.5174825174825178e-05, 'epoch': 0.5}\n",
            "{'loss': 0.8887, 'learning_rate': 2.5874125874125877e-05, 'epoch': 0.52}\n",
            "{'loss': 0.8503, 'learning_rate': 2.6573426573426574e-05, 'epoch': 0.53}\n",
            "{'loss': 0.7903, 'learning_rate': 2.7272727272727273e-05, 'epoch': 0.55}\n",
            "{'loss': 0.8074, 'learning_rate': 2.7972027972027976e-05, 'epoch': 0.56}\n",
            "{'loss': 0.726, 'learning_rate': 2.8671328671328672e-05, 'epoch': 0.57}\n",
            "{'loss': 0.7625, 'learning_rate': 2.9370629370629372e-05, 'epoch': 0.59}\n",
            "{'loss': 0.8279, 'learning_rate': 3.0069930069930068e-05, 'epoch': 0.6}\n",
            "{'loss': 0.8491, 'learning_rate': 3.0769230769230774e-05, 'epoch': 0.61}\n",
            "{'loss': 0.7034, 'learning_rate': 3.146853146853147e-05, 'epoch': 0.63}\n",
            "{'loss': 0.8007, 'learning_rate': 3.216783216783217e-05, 'epoch': 0.64}\n",
            "{'loss': 0.7494, 'learning_rate': 3.2867132867132866e-05, 'epoch': 0.66}\n",
            "{'loss': 0.8728, 'learning_rate': 3.356643356643357e-05, 'epoch': 0.67}\n",
            "{'loss': 0.8551, 'learning_rate': 3.4265734265734265e-05, 'epoch': 0.68}\n",
            "{'loss': 0.8579, 'learning_rate': 3.4965034965034965e-05, 'epoch': 0.7}\n",
            "{'loss': 0.7797, 'learning_rate': 3.566433566433567e-05, 'epoch': 0.71}\n",
            "{'loss': 0.8055, 'learning_rate': 3.6363636363636364e-05, 'epoch': 0.73}\n",
            "{'loss': 0.8548, 'learning_rate': 3.7062937062937064e-05, 'epoch': 0.74}\n",
            "{'loss': 0.7766, 'learning_rate': 3.776223776223776e-05, 'epoch': 0.75}\n",
            "{'loss': 0.8979, 'learning_rate': 3.846153846153846e-05, 'epoch': 0.77}\n",
            "{'loss': 0.8148, 'learning_rate': 3.916083916083916e-05, 'epoch': 0.78}\n",
            "{'loss': 0.8675, 'learning_rate': 3.986013986013986e-05, 'epoch': 0.8}\n",
            "{'loss': 0.8389, 'learning_rate': 4.055944055944056e-05, 'epoch': 0.81}\n",
            "{'loss': 0.7156, 'learning_rate': 4.125874125874126e-05, 'epoch': 0.82}\n",
            "{'loss': 0.7411, 'learning_rate': 4.195804195804196e-05, 'epoch': 0.84}\n",
            "{'loss': 0.7386, 'learning_rate': 4.265734265734266e-05, 'epoch': 0.85}\n",
            "{'loss': 0.8791, 'learning_rate': 4.335664335664335e-05, 'epoch': 0.87}\n",
            "{'loss': 0.7549, 'learning_rate': 4.405594405594406e-05, 'epoch': 0.88}\n",
            "{'loss': 0.8, 'learning_rate': 4.475524475524476e-05, 'epoch': 0.89}\n",
            "{'loss': 0.7015, 'learning_rate': 4.545454545454546e-05, 'epoch': 0.91}\n",
            "{'loss': 0.7523, 'learning_rate': 4.615384615384616e-05, 'epoch': 0.92}\n",
            "{'loss': 0.6996, 'learning_rate': 4.685314685314686e-05, 'epoch': 0.94}\n",
            "{'loss': 0.7524, 'learning_rate': 4.755244755244756e-05, 'epoch': 0.95}\n",
            "{'loss': 0.8186, 'learning_rate': 4.825174825174825e-05, 'epoch': 0.96}\n",
            "{'loss': 0.7776, 'learning_rate': 4.8951048951048956e-05, 'epoch': 0.98}\n",
            "{'loss': 0.8167, 'learning_rate': 4.9650349650349656e-05, 'epoch': 0.99}\n"
          ]
        },
        {
          "data": {
            "application/vnd.jupyter.widget-view+json": {
              "model_id": "e23b89c36d454747aae8c692062e5c98",
              "version_major": 2,
              "version_minor": 0
            },
            "text/plain": [
              "  0%|          | 0/318 [00:00<?, ?it/s]"
            ]
          },
          "metadata": {},
          "output_type": "display_data"
        },
        {
          "name": "stdout",
          "output_type": "stream",
          "text": [
            "{'eval_loss': 0.7519570589065552, 'eval_accuracy': 0.64937106918239, 'eval_runtime': 11.4049, 'eval_samples_per_second': 111.531, 'eval_steps_per_second': 27.883, 'epoch': 1.0}\n",
            "{'loss': 0.8059, 'learning_rate': 4.996114996114996e-05, 'epoch': 1.01}\n",
            "{'loss': 0.6811, 'learning_rate': 4.988344988344989e-05, 'epoch': 1.02}\n",
            "{'loss': 0.6353, 'learning_rate': 4.9805749805749805e-05, 'epoch': 1.03}\n",
            "{'loss': 0.6931, 'learning_rate': 4.972804972804973e-05, 'epoch': 1.05}\n",
            "{'loss': 0.711, 'learning_rate': 4.9650349650349656e-05, 'epoch': 1.06}\n",
            "{'loss': 0.6704, 'learning_rate': 4.9572649572649575e-05, 'epoch': 1.08}\n",
            "{'loss': 0.6915, 'learning_rate': 4.94949494949495e-05, 'epoch': 1.09}\n",
            "{'loss': 0.6958, 'learning_rate': 4.941724941724942e-05, 'epoch': 1.1}\n",
            "{'loss': 0.682, 'learning_rate': 4.9339549339549344e-05, 'epoch': 1.12}\n",
            "{'loss': 0.6294, 'learning_rate': 4.926184926184926e-05, 'epoch': 1.13}\n",
            "{'loss': 0.6122, 'learning_rate': 4.918414918414919e-05, 'epoch': 1.15}\n",
            "{'loss': 0.6943, 'learning_rate': 4.910644910644911e-05, 'epoch': 1.16}\n",
            "{'loss': 0.5715, 'learning_rate': 4.902874902874903e-05, 'epoch': 1.17}\n",
            "{'loss': 0.584, 'learning_rate': 4.8951048951048956e-05, 'epoch': 1.19}\n",
            "{'loss': 0.7008, 'learning_rate': 4.8873348873348875e-05, 'epoch': 1.2}\n",
            "{'loss': 0.7203, 'learning_rate': 4.8795648795648793e-05, 'epoch': 1.22}\n",
            "{'loss': 0.6039, 'learning_rate': 4.871794871794872e-05, 'epoch': 1.23}\n",
            "{'loss': 0.6818, 'learning_rate': 4.8640248640248644e-05, 'epoch': 1.24}\n",
            "{'loss': 0.6833, 'learning_rate': 4.856254856254856e-05, 'epoch': 1.26}\n",
            "{'loss': 0.7754, 'learning_rate': 4.848484848484849e-05, 'epoch': 1.27}\n",
            "{'loss': 0.6359, 'learning_rate': 4.840714840714841e-05, 'epoch': 1.29}\n",
            "{'loss': 0.6881, 'learning_rate': 4.832944832944833e-05, 'epoch': 1.3}\n",
            "{'loss': 0.7631, 'learning_rate': 4.825174825174825e-05, 'epoch': 1.31}\n",
            "{'loss': 0.6734, 'learning_rate': 4.8174048174048175e-05, 'epoch': 1.33}\n",
            "{'loss': 0.6538, 'learning_rate': 4.80963480963481e-05, 'epoch': 1.34}\n",
            "{'loss': 0.722, 'learning_rate': 4.801864801864802e-05, 'epoch': 1.36}\n",
            "{'loss': 0.7983, 'learning_rate': 4.7940947940947944e-05, 'epoch': 1.37}\n",
            "{'loss': 0.5991, 'learning_rate': 4.786324786324787e-05, 'epoch': 1.38}\n",
            "{'loss': 0.6216, 'learning_rate': 4.778554778554779e-05, 'epoch': 1.4}\n",
            "{'loss': 0.6074, 'learning_rate': 4.770784770784771e-05, 'epoch': 1.41}\n",
            "{'loss': 0.6618, 'learning_rate': 4.763014763014763e-05, 'epoch': 1.43}\n",
            "{'loss': 0.5931, 'learning_rate': 4.755244755244756e-05, 'epoch': 1.44}\n",
            "{'loss': 0.6296, 'learning_rate': 4.7474747474747476e-05, 'epoch': 1.45}\n",
            "{'loss': 0.7574, 'learning_rate': 4.73970473970474e-05, 'epoch': 1.47}\n",
            "{'loss': 0.7897, 'learning_rate': 4.7319347319347326e-05, 'epoch': 1.48}\n",
            "{'loss': 0.6896, 'learning_rate': 4.7241647241647245e-05, 'epoch': 1.5}\n",
            "{'loss': 0.5981, 'learning_rate': 4.716394716394716e-05, 'epoch': 1.51}\n",
            "{'loss': 0.6579, 'learning_rate': 4.708624708624709e-05, 'epoch': 1.52}\n",
            "{'loss': 0.7304, 'learning_rate': 4.700854700854701e-05, 'epoch': 1.54}\n",
            "{'loss': 0.6908, 'learning_rate': 4.693084693084693e-05, 'epoch': 1.55}\n",
            "{'loss': 0.7334, 'learning_rate': 4.685314685314686e-05, 'epoch': 1.57}\n",
            "{'loss': 0.6936, 'learning_rate': 4.6775446775446776e-05, 'epoch': 1.58}\n",
            "{'loss': 0.5975, 'learning_rate': 4.66977466977467e-05, 'epoch': 1.59}\n",
            "{'loss': 0.6078, 'learning_rate': 4.662004662004662e-05, 'epoch': 1.61}\n",
            "{'loss': 0.6327, 'learning_rate': 4.6542346542346545e-05, 'epoch': 1.62}\n",
            "{'loss': 0.6653, 'learning_rate': 4.6464646464646464e-05, 'epoch': 1.64}\n",
            "{'loss': 0.6053, 'learning_rate': 4.638694638694639e-05, 'epoch': 1.65}\n",
            "{'loss': 0.7499, 'learning_rate': 4.6309246309246314e-05, 'epoch': 1.66}\n",
            "{'loss': 0.6016, 'learning_rate': 4.623154623154623e-05, 'epoch': 1.68}\n",
            "{'loss': 0.6334, 'learning_rate': 4.615384615384616e-05, 'epoch': 1.69}\n",
            "{'loss': 0.5873, 'learning_rate': 4.607614607614608e-05, 'epoch': 1.71}\n",
            "{'loss': 0.6522, 'learning_rate': 4.5998445998446e-05, 'epoch': 1.72}\n",
            "{'loss': 0.653, 'learning_rate': 4.592074592074592e-05, 'epoch': 1.73}\n",
            "{'loss': 0.6955, 'learning_rate': 4.5843045843045846e-05, 'epoch': 1.75}\n",
            "{'loss': 0.7397, 'learning_rate': 4.576534576534577e-05, 'epoch': 1.76}\n",
            "{'loss': 0.5781, 'learning_rate': 4.568764568764569e-05, 'epoch': 1.77}\n",
            "{'loss': 0.622, 'learning_rate': 4.5609945609945615e-05, 'epoch': 1.79}\n",
            "{'loss': 0.6926, 'learning_rate': 4.553224553224553e-05, 'epoch': 1.8}\n",
            "{'loss': 0.5826, 'learning_rate': 4.545454545454546e-05, 'epoch': 1.82}\n",
            "{'loss': 0.6328, 'learning_rate': 4.537684537684538e-05, 'epoch': 1.83}\n",
            "{'loss': 0.626, 'learning_rate': 4.52991452991453e-05, 'epoch': 1.84}\n",
            "{'loss': 0.5997, 'learning_rate': 4.522144522144523e-05, 'epoch': 1.86}\n",
            "{'loss': 0.5674, 'learning_rate': 4.5143745143745146e-05, 'epoch': 1.87}\n",
            "{'loss': 0.5821, 'learning_rate': 4.506604506604507e-05, 'epoch': 1.89}\n",
            "{'loss': 0.6064, 'learning_rate': 4.498834498834499e-05, 'epoch': 1.9}\n",
            "{'loss': 0.6157, 'learning_rate': 4.491064491064491e-05, 'epoch': 1.91}\n",
            "{'loss': 0.5871, 'learning_rate': 4.4832944832944834e-05, 'epoch': 1.93}\n",
            "{'loss': 0.5791, 'learning_rate': 4.475524475524476e-05, 'epoch': 1.94}\n",
            "{'loss': 0.6852, 'learning_rate': 4.467754467754468e-05, 'epoch': 1.96}\n",
            "{'loss': 0.5465, 'learning_rate': 4.45998445998446e-05, 'epoch': 1.97}\n",
            "{'loss': 0.5648, 'learning_rate': 4.452214452214453e-05, 'epoch': 1.98}\n",
            "{'loss': 0.6264, 'learning_rate': 4.4444444444444447e-05, 'epoch': 2.0}\n"
          ]
        },
        {
          "data": {
            "application/vnd.jupyter.widget-view+json": {
              "model_id": "3b0ae4a543cd42928522a578c22150a1",
              "version_major": 2,
              "version_minor": 0
            },
            "text/plain": [
              "  0%|          | 0/318 [00:00<?, ?it/s]"
            ]
          },
          "metadata": {},
          "output_type": "display_data"
        },
        {
          "name": "stdout",
          "output_type": "stream",
          "text": [
            "{'eval_loss': 0.646718442440033, 'eval_accuracy': 0.7091194968553459, 'eval_runtime': 11.968, 'eval_samples_per_second': 106.284, 'eval_steps_per_second': 26.571, 'epoch': 2.0}\n",
            "{'loss': 0.5131, 'learning_rate': 4.4366744366744365e-05, 'epoch': 2.01}\n",
            "{'loss': 0.5388, 'learning_rate': 4.428904428904429e-05, 'epoch': 2.03}\n",
            "{'loss': 0.5453, 'learning_rate': 4.4211344211344216e-05, 'epoch': 2.04}\n",
            "{'loss': 0.4609, 'learning_rate': 4.4133644133644134e-05, 'epoch': 2.05}\n",
            "{'loss': 0.6504, 'learning_rate': 4.405594405594406e-05, 'epoch': 2.07}\n",
            "{'loss': 0.6436, 'learning_rate': 4.3978243978243985e-05, 'epoch': 2.08}\n",
            "{'loss': 0.5886, 'learning_rate': 4.39005439005439e-05, 'epoch': 2.1}\n",
            "{'loss': 0.5337, 'learning_rate': 4.382284382284382e-05, 'epoch': 2.11}\n",
            "{'loss': 0.5122, 'learning_rate': 4.374514374514375e-05, 'epoch': 2.12}\n",
            "{'loss': 0.4732, 'learning_rate': 4.366744366744367e-05, 'epoch': 2.14}\n",
            "{'loss': 0.6697, 'learning_rate': 4.358974358974359e-05, 'epoch': 2.15}\n",
            "{'loss': 0.6293, 'learning_rate': 4.3512043512043516e-05, 'epoch': 2.17}\n",
            "{'loss': 0.5388, 'learning_rate': 4.343434343434344e-05, 'epoch': 2.18}\n",
            "{'loss': 0.5748, 'learning_rate': 4.335664335664335e-05, 'epoch': 2.19}\n",
            "{'loss': 0.6661, 'learning_rate': 4.327894327894328e-05, 'epoch': 2.21}\n",
            "{'loss': 0.5795, 'learning_rate': 4.3201243201243204e-05, 'epoch': 2.22}\n",
            "{'loss': 0.5542, 'learning_rate': 4.312354312354312e-05, 'epoch': 2.24}\n",
            "{'loss': 0.5108, 'learning_rate': 4.304584304584305e-05, 'epoch': 2.25}\n",
            "{'loss': 0.576, 'learning_rate': 4.296814296814297e-05, 'epoch': 2.26}\n",
            "{'loss': 0.5855, 'learning_rate': 4.289044289044289e-05, 'epoch': 2.28}\n",
            "{'loss': 0.5645, 'learning_rate': 4.281274281274281e-05, 'epoch': 2.29}\n",
            "{'loss': 0.578, 'learning_rate': 4.2735042735042735e-05, 'epoch': 2.31}\n",
            "{'loss': 0.5183, 'learning_rate': 4.265734265734266e-05, 'epoch': 2.32}\n",
            "{'loss': 0.6493, 'learning_rate': 4.257964257964258e-05, 'epoch': 2.33}\n",
            "{'loss': 0.5354, 'learning_rate': 4.2501942501942504e-05, 'epoch': 2.35}\n",
            "{'loss': 0.4635, 'learning_rate': 4.242424242424243e-05, 'epoch': 2.36}\n",
            "{'loss': 0.5693, 'learning_rate': 4.234654234654235e-05, 'epoch': 2.38}\n",
            "{'loss': 0.5808, 'learning_rate': 4.226884226884227e-05, 'epoch': 2.39}\n",
            "{'loss': 0.5881, 'learning_rate': 4.219114219114219e-05, 'epoch': 2.4}\n",
            "{'loss': 0.5627, 'learning_rate': 4.211344211344212e-05, 'epoch': 2.42}\n",
            "{'loss': 0.5473, 'learning_rate': 4.2035742035742035e-05, 'epoch': 2.43}\n",
            "{'loss': 0.4588, 'learning_rate': 4.195804195804196e-05, 'epoch': 2.45}\n",
            "{'loss': 0.4895, 'learning_rate': 4.1880341880341886e-05, 'epoch': 2.46}\n",
            "{'loss': 0.5788, 'learning_rate': 4.1802641802641805e-05, 'epoch': 2.47}\n",
            "{'loss': 0.5028, 'learning_rate': 4.172494172494173e-05, 'epoch': 2.49}\n",
            "{'loss': 0.5475, 'learning_rate': 4.164724164724165e-05, 'epoch': 2.5}\n",
            "{'loss': 0.5955, 'learning_rate': 4.1569541569541574e-05, 'epoch': 2.52}\n",
            "{'loss': 0.5225, 'learning_rate': 4.149184149184149e-05, 'epoch': 2.53}\n",
            "{'loss': 0.6285, 'learning_rate': 4.141414141414142e-05, 'epoch': 2.54}\n",
            "{'loss': 0.5278, 'learning_rate': 4.133644133644134e-05, 'epoch': 2.56}\n",
            "{'loss': 0.5546, 'learning_rate': 4.125874125874126e-05, 'epoch': 2.57}\n",
            "{'loss': 0.561, 'learning_rate': 4.1181041181041186e-05, 'epoch': 2.59}\n",
            "{'loss': 0.5116, 'learning_rate': 4.1103341103341105e-05, 'epoch': 2.6}\n",
            "{'loss': 0.6029, 'learning_rate': 4.1025641025641023e-05, 'epoch': 2.61}\n",
            "{'loss': 0.5069, 'learning_rate': 4.094794094794095e-05, 'epoch': 2.63}\n",
            "{'loss': 0.3958, 'learning_rate': 4.0870240870240874e-05, 'epoch': 2.64}\n",
            "{'loss': 0.5321, 'learning_rate': 4.079254079254079e-05, 'epoch': 2.66}\n",
            "{'loss': 0.4803, 'learning_rate': 4.071484071484072e-05, 'epoch': 2.67}\n",
            "{'loss': 0.5141, 'learning_rate': 4.063714063714064e-05, 'epoch': 2.68}\n",
            "{'loss': 0.561, 'learning_rate': 4.055944055944056e-05, 'epoch': 2.7}\n",
            "{'loss': 0.4991, 'learning_rate': 4.048174048174048e-05, 'epoch': 2.71}\n",
            "{'loss': 0.5386, 'learning_rate': 4.0404040404040405e-05, 'epoch': 2.73}\n",
            "{'loss': 0.5859, 'learning_rate': 4.032634032634033e-05, 'epoch': 2.74}\n",
            "{'loss': 0.637, 'learning_rate': 4.024864024864025e-05, 'epoch': 2.75}\n",
            "{'loss': 0.4883, 'learning_rate': 4.0170940170940174e-05, 'epoch': 2.77}\n",
            "{'loss': 0.4637, 'learning_rate': 4.00932400932401e-05, 'epoch': 2.78}\n",
            "{'loss': 0.662, 'learning_rate': 4.001554001554002e-05, 'epoch': 2.8}\n",
            "{'loss': 0.5536, 'learning_rate': 3.993783993783994e-05, 'epoch': 2.81}\n",
            "{'loss': 0.4416, 'learning_rate': 3.986013986013986e-05, 'epoch': 2.82}\n",
            "{'loss': 0.5873, 'learning_rate': 3.978243978243979e-05, 'epoch': 2.84}\n",
            "{'loss': 0.5331, 'learning_rate': 3.9704739704739706e-05, 'epoch': 2.85}\n",
            "{'loss': 0.5302, 'learning_rate': 3.962703962703963e-05, 'epoch': 2.87}\n",
            "{'loss': 0.473, 'learning_rate': 3.9549339549339556e-05, 'epoch': 2.88}\n",
            "{'loss': 0.4557, 'learning_rate': 3.947163947163947e-05, 'epoch': 2.89}\n",
            "{'loss': 0.5914, 'learning_rate': 3.939393939393939e-05, 'epoch': 2.91}\n",
            "{'loss': 0.4812, 'learning_rate': 3.931623931623932e-05, 'epoch': 2.92}\n",
            "{'loss': 0.521, 'learning_rate': 3.923853923853924e-05, 'epoch': 2.94}\n",
            "{'loss': 0.5, 'learning_rate': 3.916083916083916e-05, 'epoch': 2.95}\n",
            "{'loss': 0.5287, 'learning_rate': 3.908313908313909e-05, 'epoch': 2.96}\n",
            "{'loss': 0.4164, 'learning_rate': 3.9005439005439006e-05, 'epoch': 2.98}\n",
            "{'loss': 0.5003, 'learning_rate': 3.8927738927738925e-05, 'epoch': 2.99}\n"
          ]
        },
        {
          "data": {
            "application/vnd.jupyter.widget-view+json": {
              "model_id": "362336812237431eab2505d0e6a91f36",
              "version_major": 2,
              "version_minor": 0
            },
            "text/plain": [
              "  0%|          | 0/318 [00:00<?, ?it/s]"
            ]
          },
          "metadata": {},
          "output_type": "display_data"
        },
        {
          "name": "stdout",
          "output_type": "stream",
          "text": [
            "{'eval_loss': 0.543040931224823, 'eval_accuracy': 0.7594339622641509, 'eval_runtime': 9.1489, 'eval_samples_per_second': 139.033, 'eval_steps_per_second': 34.758, 'epoch': 3.0}\n",
            "{'loss': 0.5556, 'learning_rate': 3.885003885003885e-05, 'epoch': 3.0}\n",
            "{'loss': 0.5045, 'learning_rate': 3.8772338772338775e-05, 'epoch': 3.02}\n",
            "{'loss': 0.4953, 'learning_rate': 3.8694638694638694e-05, 'epoch': 3.03}\n",
            "{'loss': 0.4843, 'learning_rate': 3.861693861693862e-05, 'epoch': 3.05}\n",
            "{'loss': 0.4979, 'learning_rate': 3.8539238539238544e-05, 'epoch': 3.06}\n",
            "{'loss': 0.4425, 'learning_rate': 3.846153846153846e-05, 'epoch': 3.07}\n",
            "{'loss': 0.4815, 'learning_rate': 3.838383838383838e-05, 'epoch': 3.09}\n",
            "{'loss': 0.4499, 'learning_rate': 3.830613830613831e-05, 'epoch': 3.1}\n",
            "{'loss': 0.3848, 'learning_rate': 3.822843822843823e-05, 'epoch': 3.12}\n",
            "{'loss': 0.4735, 'learning_rate': 3.815073815073815e-05, 'epoch': 3.13}\n",
            "{'loss': 0.5089, 'learning_rate': 3.8073038073038076e-05, 'epoch': 3.14}\n",
            "{'loss': 0.4805, 'learning_rate': 3.7995337995338e-05, 'epoch': 3.16}\n",
            "{'loss': 0.4844, 'learning_rate': 3.791763791763792e-05, 'epoch': 3.17}\n",
            "{'loss': 0.4866, 'learning_rate': 3.783993783993784e-05, 'epoch': 3.19}\n",
            "{'loss': 0.4016, 'learning_rate': 3.776223776223776e-05, 'epoch': 3.2}\n",
            "{'loss': 0.4095, 'learning_rate': 3.768453768453769e-05, 'epoch': 3.21}\n",
            "{'loss': 0.3929, 'learning_rate': 3.760683760683761e-05, 'epoch': 3.23}\n",
            "{'loss': 0.4793, 'learning_rate': 3.752913752913753e-05, 'epoch': 3.24}\n",
            "{'loss': 0.3796, 'learning_rate': 3.745143745143746e-05, 'epoch': 3.26}\n",
            "{'loss': 0.4035, 'learning_rate': 3.7373737373737376e-05, 'epoch': 3.27}\n",
            "{'loss': 0.4616, 'learning_rate': 3.72960372960373e-05, 'epoch': 3.28}\n",
            "{'loss': 0.4567, 'learning_rate': 3.721833721833722e-05, 'epoch': 3.3}\n",
            "{'loss': 0.5781, 'learning_rate': 3.714063714063714e-05, 'epoch': 3.31}\n",
            "{'loss': 0.5287, 'learning_rate': 3.7062937062937064e-05, 'epoch': 3.33}\n",
            "{'loss': 0.4424, 'learning_rate': 3.698523698523699e-05, 'epoch': 3.34}\n",
            "{'loss': 0.3897, 'learning_rate': 3.690753690753691e-05, 'epoch': 3.35}\n",
            "{'loss': 0.5093, 'learning_rate': 3.682983682983683e-05, 'epoch': 3.37}\n",
            "{'loss': 0.4073, 'learning_rate': 3.675213675213676e-05, 'epoch': 3.38}\n",
            "{'loss': 0.4406, 'learning_rate': 3.6674436674436677e-05, 'epoch': 3.4}\n",
            "{'loss': 0.4775, 'learning_rate': 3.6596736596736595e-05, 'epoch': 3.41}\n",
            "{'loss': 0.4901, 'learning_rate': 3.651903651903652e-05, 'epoch': 3.42}\n",
            "{'loss': 0.4115, 'learning_rate': 3.6441336441336446e-05, 'epoch': 3.44}\n",
            "{'loss': 0.495, 'learning_rate': 3.6363636363636364e-05, 'epoch': 3.45}\n",
            "{'loss': 0.3771, 'learning_rate': 3.628593628593629e-05, 'epoch': 3.47}\n",
            "{'loss': 0.5129, 'learning_rate': 3.6208236208236215e-05, 'epoch': 3.48}\n",
            "{'loss': 0.4137, 'learning_rate': 3.613053613053613e-05, 'epoch': 3.49}\n",
            "{'loss': 0.562, 'learning_rate': 3.605283605283605e-05, 'epoch': 3.51}\n",
            "{'loss': 0.3004, 'learning_rate': 3.597513597513598e-05, 'epoch': 3.52}\n",
            "{'loss': 0.5154, 'learning_rate': 3.58974358974359e-05, 'epoch': 3.54}\n",
            "{'loss': 0.4886, 'learning_rate': 3.581973581973582e-05, 'epoch': 3.55}\n",
            "{'loss': 0.4129, 'learning_rate': 3.5742035742035746e-05, 'epoch': 3.56}\n",
            "{'loss': 0.3973, 'learning_rate': 3.566433566433567e-05, 'epoch': 3.58}\n",
            "{'loss': 0.3899, 'learning_rate': 3.558663558663558e-05, 'epoch': 3.59}\n",
            "{'loss': 0.3464, 'learning_rate': 3.550893550893551e-05, 'epoch': 3.61}\n",
            "{'loss': 0.3679, 'learning_rate': 3.5431235431235434e-05, 'epoch': 3.62}\n",
            "{'loss': 0.3952, 'learning_rate': 3.535353535353535e-05, 'epoch': 3.63}\n",
            "{'loss': 0.4345, 'learning_rate': 3.527583527583528e-05, 'epoch': 3.65}\n",
            "{'loss': 0.348, 'learning_rate': 3.51981351981352e-05, 'epoch': 3.66}\n",
            "{'loss': 0.4412, 'learning_rate': 3.512043512043512e-05, 'epoch': 3.68}\n",
            "{'loss': 0.4547, 'learning_rate': 3.504273504273504e-05, 'epoch': 3.69}\n",
            "{'loss': 0.4207, 'learning_rate': 3.4965034965034965e-05, 'epoch': 3.7}\n",
            "{'loss': 0.4335, 'learning_rate': 3.488733488733489e-05, 'epoch': 3.72}\n",
            "{'loss': 0.4797, 'learning_rate': 3.480963480963481e-05, 'epoch': 3.73}\n",
            "{'loss': 0.4438, 'learning_rate': 3.4731934731934734e-05, 'epoch': 3.75}\n",
            "{'loss': 0.5562, 'learning_rate': 3.465423465423466e-05, 'epoch': 3.76}\n",
            "{'loss': 0.4543, 'learning_rate': 3.457653457653458e-05, 'epoch': 3.77}\n",
            "{'loss': 0.4645, 'learning_rate': 3.4498834498834496e-05, 'epoch': 3.79}\n",
            "{'loss': 0.4407, 'learning_rate': 3.442113442113442e-05, 'epoch': 3.8}\n",
            "{'loss': 0.3666, 'learning_rate': 3.434343434343435e-05, 'epoch': 3.82}\n",
            "{'loss': 0.3721, 'learning_rate': 3.4265734265734265e-05, 'epoch': 3.83}\n",
            "{'loss': 0.46, 'learning_rate': 3.418803418803419e-05, 'epoch': 3.84}\n",
            "{'loss': 0.3095, 'learning_rate': 3.4110334110334116e-05, 'epoch': 3.86}\n",
            "{'loss': 0.3147, 'learning_rate': 3.4032634032634035e-05, 'epoch': 3.87}\n",
            "{'loss': 0.6323, 'learning_rate': 3.395493395493395e-05, 'epoch': 3.89}\n",
            "{'loss': 0.3245, 'learning_rate': 3.387723387723388e-05, 'epoch': 3.9}\n",
            "{'loss': 0.3573, 'learning_rate': 3.37995337995338e-05, 'epoch': 3.91}\n",
            "{'loss': 0.4429, 'learning_rate': 3.372183372183372e-05, 'epoch': 3.93}\n",
            "{'loss': 0.4545, 'learning_rate': 3.364413364413365e-05, 'epoch': 3.94}\n",
            "{'loss': 0.4721, 'learning_rate': 3.356643356643357e-05, 'epoch': 3.96}\n",
            "{'loss': 0.4256, 'learning_rate': 3.348873348873349e-05, 'epoch': 3.97}\n",
            "{'loss': 0.4263, 'learning_rate': 3.341103341103341e-05, 'epoch': 3.98}\n",
            "{'loss': 0.3543, 'learning_rate': 3.3333333333333335e-05, 'epoch': 4.0}\n"
          ]
        },
        {
          "data": {
            "application/vnd.jupyter.widget-view+json": {
              "model_id": "b5d29bea87d0410baff60fae7695fd54",
              "version_major": 2,
              "version_minor": 0
            },
            "text/plain": [
              "  0%|          | 0/318 [00:00<?, ?it/s]"
            ]
          },
          "metadata": {},
          "output_type": "display_data"
        },
        {
          "name": "stdout",
          "output_type": "stream",
          "text": [
            "{'eval_loss': 0.43717989325523376, 'eval_accuracy': 0.8144654088050315, 'eval_runtime': 9.7602, 'eval_samples_per_second': 130.325, 'eval_steps_per_second': 32.581, 'epoch': 4.0}\n",
            "{'loss': 0.4023, 'learning_rate': 3.3255633255633253e-05, 'epoch': 4.01}\n",
            "{'loss': 0.4009, 'learning_rate': 3.317793317793318e-05, 'epoch': 4.03}\n",
            "{'loss': 0.4081, 'learning_rate': 3.3100233100233104e-05, 'epoch': 4.04}\n",
            "{'loss': 0.4303, 'learning_rate': 3.302253302253302e-05, 'epoch': 4.05}\n",
            "{'loss': 0.399, 'learning_rate': 3.294483294483295e-05, 'epoch': 4.07}\n",
            "{'loss': 0.3252, 'learning_rate': 3.2867132867132866e-05, 'epoch': 4.08}\n",
            "{'loss': 0.4219, 'learning_rate': 3.278943278943279e-05, 'epoch': 4.1}\n",
            "{'loss': 0.4289, 'learning_rate': 3.271173271173271e-05, 'epoch': 4.11}\n",
            "{'loss': 0.3918, 'learning_rate': 3.2634032634032635e-05, 'epoch': 4.12}\n",
            "{'loss': 0.3622, 'learning_rate': 3.255633255633256e-05, 'epoch': 4.14}\n",
            "{'loss': 0.3696, 'learning_rate': 3.247863247863248e-05, 'epoch': 4.15}\n",
            "{'loss': 0.302, 'learning_rate': 3.2400932400932404e-05, 'epoch': 4.16}\n",
            "{'loss': 0.343, 'learning_rate': 3.232323232323233e-05, 'epoch': 4.18}\n",
            "{'loss': 0.3507, 'learning_rate': 3.224553224553225e-05, 'epoch': 4.19}\n",
            "{'loss': 0.3727, 'learning_rate': 3.216783216783217e-05, 'epoch': 4.21}\n",
            "{'loss': 0.3881, 'learning_rate': 3.209013209013209e-05, 'epoch': 4.22}\n",
            "{'loss': 0.3814, 'learning_rate': 3.201243201243202e-05, 'epoch': 4.23}\n",
            "{'loss': 0.3462, 'learning_rate': 3.1934731934731936e-05, 'epoch': 4.25}\n",
            "{'loss': 0.2997, 'learning_rate': 3.185703185703186e-05, 'epoch': 4.26}\n",
            "{'loss': 0.4256, 'learning_rate': 3.1779331779331786e-05, 'epoch': 4.28}\n",
            "{'loss': 0.3225, 'learning_rate': 3.17016317016317e-05, 'epoch': 4.29}\n",
            "{'loss': 0.4428, 'learning_rate': 3.162393162393162e-05, 'epoch': 4.3}\n",
            "{'loss': 0.3411, 'learning_rate': 3.154623154623155e-05, 'epoch': 4.32}\n",
            "{'loss': 0.2889, 'learning_rate': 3.146853146853147e-05, 'epoch': 4.33}\n",
            "{'loss': 0.3338, 'learning_rate': 3.139083139083139e-05, 'epoch': 4.35}\n",
            "{'loss': 0.3747, 'learning_rate': 3.131313131313132e-05, 'epoch': 4.36}\n",
            "{'loss': 0.3389, 'learning_rate': 3.1235431235431236e-05, 'epoch': 4.37}\n",
            "{'loss': 0.3191, 'learning_rate': 3.1157731157731155e-05, 'epoch': 4.39}\n",
            "{'loss': 0.3591, 'learning_rate': 3.108003108003108e-05, 'epoch': 4.4}\n",
            "{'loss': 0.255, 'learning_rate': 3.1002331002331005e-05, 'epoch': 4.42}\n",
            "{'loss': 0.3512, 'learning_rate': 3.0924630924630924e-05, 'epoch': 4.43}\n",
            "{'loss': 0.2889, 'learning_rate': 3.084693084693085e-05, 'epoch': 4.44}\n",
            "{'loss': 0.2943, 'learning_rate': 3.0769230769230774e-05, 'epoch': 4.46}\n",
            "{'loss': 0.2641, 'learning_rate': 3.069153069153069e-05, 'epoch': 4.47}\n",
            "{'loss': 0.3223, 'learning_rate': 3.061383061383061e-05, 'epoch': 4.49}\n",
            "{'loss': 0.312, 'learning_rate': 3.053613053613054e-05, 'epoch': 4.5}\n",
            "{'loss': 0.2545, 'learning_rate': 3.045843045843046e-05, 'epoch': 4.51}\n",
            "{'loss': 0.3299, 'learning_rate': 3.0380730380730384e-05, 'epoch': 4.53}\n",
            "{'loss': 0.4249, 'learning_rate': 3.0303030303030306e-05, 'epoch': 4.54}\n",
            "{'loss': 0.3198, 'learning_rate': 3.0225330225330228e-05, 'epoch': 4.56}\n",
            "{'loss': 0.395, 'learning_rate': 3.0147630147630153e-05, 'epoch': 4.57}\n",
            "{'loss': 0.2532, 'learning_rate': 3.0069930069930068e-05, 'epoch': 4.58}\n",
            "{'loss': 0.3367, 'learning_rate': 2.9992229992229993e-05, 'epoch': 4.6}\n",
            "{'loss': 0.3339, 'learning_rate': 2.9914529914529915e-05, 'epoch': 4.61}\n",
            "{'loss': 0.2761, 'learning_rate': 2.9836829836829837e-05, 'epoch': 4.63}\n",
            "{'loss': 0.2326, 'learning_rate': 2.9759129759129762e-05, 'epoch': 4.64}\n",
            "{'loss': 0.4226, 'learning_rate': 2.9681429681429684e-05, 'epoch': 4.65}\n",
            "{'loss': 0.3118, 'learning_rate': 2.9603729603729606e-05, 'epoch': 4.67}\n",
            "{'loss': 0.3361, 'learning_rate': 2.9526029526029525e-05, 'epoch': 4.68}\n",
            "{'loss': 0.4972, 'learning_rate': 2.9448329448329447e-05, 'epoch': 4.7}\n",
            "{'loss': 0.3115, 'learning_rate': 2.9370629370629372e-05, 'epoch': 4.71}\n",
            "{'loss': 0.3345, 'learning_rate': 2.9292929292929294e-05, 'epoch': 4.72}\n",
            "{'loss': 0.3766, 'learning_rate': 2.9215229215229216e-05, 'epoch': 4.74}\n",
            "{'loss': 0.3821, 'learning_rate': 2.913752913752914e-05, 'epoch': 4.75}\n",
            "{'loss': 0.297, 'learning_rate': 2.9059829059829063e-05, 'epoch': 4.77}\n",
            "{'loss': 0.3681, 'learning_rate': 2.898212898212898e-05, 'epoch': 4.78}\n",
            "{'loss': 0.476, 'learning_rate': 2.8904428904428903e-05, 'epoch': 4.79}\n",
            "{'loss': 0.3392, 'learning_rate': 2.882672882672883e-05, 'epoch': 4.81}\n",
            "{'loss': 0.3026, 'learning_rate': 2.874902874902875e-05, 'epoch': 4.82}\n",
            "{'loss': 0.3134, 'learning_rate': 2.8671328671328672e-05, 'epoch': 4.84}\n",
            "{'loss': 0.3519, 'learning_rate': 2.8593628593628598e-05, 'epoch': 4.85}\n",
            "{'loss': 0.2676, 'learning_rate': 2.851592851592852e-05, 'epoch': 4.86}\n",
            "{'loss': 0.3478, 'learning_rate': 2.8438228438228438e-05, 'epoch': 4.88}\n",
            "{'loss': 0.2699, 'learning_rate': 2.836052836052836e-05, 'epoch': 4.89}\n",
            "{'loss': 0.3158, 'learning_rate': 2.8282828282828282e-05, 'epoch': 4.91}\n",
            "{'loss': 0.2874, 'learning_rate': 2.8205128205128207e-05, 'epoch': 4.92}\n",
            "{'loss': 0.278, 'learning_rate': 2.812742812742813e-05, 'epoch': 4.93}\n",
            "{'loss': 0.3414, 'learning_rate': 2.804972804972805e-05, 'epoch': 4.95}\n",
            "{'loss': 0.236, 'learning_rate': 2.7972027972027976e-05, 'epoch': 4.96}\n",
            "{'loss': 0.355, 'learning_rate': 2.7894327894327895e-05, 'epoch': 4.98}\n",
            "{'loss': 0.3816, 'learning_rate': 2.7816627816627816e-05, 'epoch': 4.99}\n"
          ]
        },
        {
          "data": {
            "application/vnd.jupyter.widget-view+json": {
              "model_id": "ef9ec9e72d674cd6b4bbac784e5361f4",
              "version_major": 2,
              "version_minor": 0
            },
            "text/plain": [
              "  0%|          | 0/318 [00:00<?, ?it/s]"
            ]
          },
          "metadata": {},
          "output_type": "display_data"
        },
        {
          "name": "stdout",
          "output_type": "stream",
          "text": [
            "{'eval_loss': 0.36814603209495544, 'eval_accuracy': 0.8427672955974843, 'eval_runtime': 9.7072, 'eval_samples_per_second': 131.036, 'eval_steps_per_second': 32.759, 'epoch': 5.0}\n"
          ]
        },
        {
          "name": "stderr",
          "output_type": "stream",
          "text": [
            "Several commits (2) will be pushed upstream.\n"
          ]
        },
        {
          "name": "stdout",
          "output_type": "stream",
          "text": [
            "{'loss': 0.3785, 'learning_rate': 2.773892773892774e-05, 'epoch': 5.0}\n",
            "{'loss': 0.3433, 'learning_rate': 2.7661227661227664e-05, 'epoch': 5.02}\n",
            "{'loss': 0.3235, 'learning_rate': 2.7583527583527586e-05, 'epoch': 5.03}\n",
            "{'loss': 0.2571, 'learning_rate': 2.7505827505827507e-05, 'epoch': 5.05}\n",
            "{'loss': 0.2699, 'learning_rate': 2.7428127428127433e-05, 'epoch': 5.06}\n",
            "{'loss': 0.3551, 'learning_rate': 2.7350427350427355e-05, 'epoch': 5.07}\n",
            "{'loss': 0.2332, 'learning_rate': 2.7272727272727273e-05, 'epoch': 5.09}\n",
            "{'loss': 0.2341, 'learning_rate': 2.7195027195027195e-05, 'epoch': 5.1}\n",
            "{'loss': 0.2365, 'learning_rate': 2.7117327117327117e-05, 'epoch': 5.12}\n",
            "{'loss': 0.3338, 'learning_rate': 2.7039627039627042e-05, 'epoch': 5.13}\n",
            "{'loss': 0.3511, 'learning_rate': 2.6961926961926964e-05, 'epoch': 5.14}\n",
            "{'loss': 0.322, 'learning_rate': 2.6884226884226886e-05, 'epoch': 5.16}\n",
            "{'loss': 0.2362, 'learning_rate': 2.680652680652681e-05, 'epoch': 5.17}\n",
            "{'loss': 0.278, 'learning_rate': 2.6728826728826726e-05, 'epoch': 5.19}\n",
            "{'loss': 0.3097, 'learning_rate': 2.665112665112665e-05, 'epoch': 5.2}\n",
            "{'loss': 0.2125, 'learning_rate': 2.6573426573426574e-05, 'epoch': 5.21}\n",
            "{'loss': 0.3883, 'learning_rate': 2.64957264957265e-05, 'epoch': 5.23}\n",
            "{'loss': 0.1926, 'learning_rate': 2.641802641802642e-05, 'epoch': 5.24}\n",
            "{'loss': 0.2088, 'learning_rate': 2.6340326340326343e-05, 'epoch': 5.26}\n",
            "{'loss': 0.3087, 'learning_rate': 2.6262626262626268e-05, 'epoch': 5.27}\n",
            "{'loss': 0.3405, 'learning_rate': 2.6184926184926183e-05, 'epoch': 5.28}\n",
            "{'loss': 0.2818, 'learning_rate': 2.6107226107226108e-05, 'epoch': 5.3}\n",
            "{'loss': 0.2646, 'learning_rate': 2.602952602952603e-05, 'epoch': 5.31}\n",
            "{'loss': 0.1984, 'learning_rate': 2.5951825951825952e-05, 'epoch': 5.32}\n",
            "{'loss': 0.2779, 'learning_rate': 2.5874125874125877e-05, 'epoch': 5.34}\n",
            "{'loss': 0.4046, 'learning_rate': 2.57964257964258e-05, 'epoch': 5.35}\n",
            "{'loss': 0.2218, 'learning_rate': 2.571872571872572e-05, 'epoch': 5.37}\n",
            "{'loss': 0.2726, 'learning_rate': 2.564102564102564e-05, 'epoch': 5.38}\n",
            "{'loss': 0.3345, 'learning_rate': 2.556332556332556e-05, 'epoch': 5.39}\n",
            "{'loss': 0.3454, 'learning_rate': 2.5485625485625487e-05, 'epoch': 5.41}\n",
            "{'loss': 0.3246, 'learning_rate': 2.540792540792541e-05, 'epoch': 5.42}\n",
            "{'loss': 0.2499, 'learning_rate': 2.533022533022533e-05, 'epoch': 5.44}\n",
            "{'loss': 0.2612, 'learning_rate': 2.5252525252525256e-05, 'epoch': 5.45}\n",
            "{'loss': 0.3456, 'learning_rate': 2.5174825174825178e-05, 'epoch': 5.46}\n",
            "{'loss': 0.2518, 'learning_rate': 2.5097125097125096e-05, 'epoch': 5.48}\n",
            "{'loss': 0.2481, 'learning_rate': 2.5019425019425018e-05, 'epoch': 5.49}\n",
            "{'loss': 0.3092, 'learning_rate': 2.4941724941724943e-05, 'epoch': 5.51}\n",
            "{'loss': 0.1759, 'learning_rate': 2.4864024864024865e-05, 'epoch': 5.52}\n",
            "{'loss': 0.2551, 'learning_rate': 2.4786324786324787e-05, 'epoch': 5.53}\n",
            "{'loss': 0.2072, 'learning_rate': 2.470862470862471e-05, 'epoch': 5.55}\n",
            "{'loss': 0.2672, 'learning_rate': 2.463092463092463e-05, 'epoch': 5.56}\n",
            "{'loss': 0.3882, 'learning_rate': 2.4553224553224556e-05, 'epoch': 5.58}\n",
            "{'loss': 0.3531, 'learning_rate': 2.4475524475524478e-05, 'epoch': 5.59}\n",
            "{'loss': 0.2998, 'learning_rate': 2.4397824397824397e-05, 'epoch': 5.6}\n",
            "{'loss': 0.2145, 'learning_rate': 2.4320124320124322e-05, 'epoch': 5.62}\n",
            "{'loss': 0.284, 'learning_rate': 2.4242424242424244e-05, 'epoch': 5.63}\n",
            "{'loss': 0.2179, 'learning_rate': 2.4164724164724166e-05, 'epoch': 5.65}\n",
            "{'loss': 0.235, 'learning_rate': 2.4087024087024088e-05, 'epoch': 5.66}\n",
            "{'loss': 0.3464, 'learning_rate': 2.400932400932401e-05, 'epoch': 5.67}\n",
            "{'loss': 0.2216, 'learning_rate': 2.3931623931623935e-05, 'epoch': 5.69}\n",
            "{'loss': 0.2552, 'learning_rate': 2.3853923853923853e-05, 'epoch': 5.7}\n",
            "{'loss': 0.2868, 'learning_rate': 2.377622377622378e-05, 'epoch': 5.72}\n",
            "{'loss': 0.3733, 'learning_rate': 2.36985236985237e-05, 'epoch': 5.73}\n",
            "{'loss': 0.2572, 'learning_rate': 2.3620823620823622e-05, 'epoch': 5.74}\n",
            "{'loss': 0.2301, 'learning_rate': 2.3543123543123544e-05, 'epoch': 5.76}\n",
            "{'loss': 0.2779, 'learning_rate': 2.3465423465423466e-05, 'epoch': 5.77}\n",
            "{'loss': 0.2464, 'learning_rate': 2.3387723387723388e-05, 'epoch': 5.79}\n",
            "{'loss': 0.27, 'learning_rate': 2.331002331002331e-05, 'epoch': 5.8}\n",
            "{'loss': 0.289, 'learning_rate': 2.3232323232323232e-05, 'epoch': 5.81}\n",
            "{'loss': 0.264, 'learning_rate': 2.3154623154623157e-05, 'epoch': 5.83}\n",
            "{'loss': 0.3083, 'learning_rate': 2.307692307692308e-05, 'epoch': 5.84}\n",
            "{'loss': 0.2953, 'learning_rate': 2.2999222999223e-05, 'epoch': 5.86}\n",
            "{'loss': 0.2295, 'learning_rate': 2.2921522921522923e-05, 'epoch': 5.87}\n",
            "{'loss': 0.2789, 'learning_rate': 2.2843822843822845e-05, 'epoch': 5.88}\n",
            "{'loss': 0.313, 'learning_rate': 2.2766122766122767e-05, 'epoch': 5.9}\n",
            "{'loss': 0.2711, 'learning_rate': 2.268842268842269e-05, 'epoch': 5.91}\n",
            "{'loss': 0.2302, 'learning_rate': 2.2610722610722614e-05, 'epoch': 5.93}\n",
            "{'loss': 0.2697, 'learning_rate': 2.2533022533022536e-05, 'epoch': 5.94}\n",
            "{'loss': 0.27, 'learning_rate': 2.2455322455322454e-05, 'epoch': 5.95}\n",
            "{'loss': 0.2569, 'learning_rate': 2.237762237762238e-05, 'epoch': 5.97}\n",
            "{'loss': 0.2933, 'learning_rate': 2.22999222999223e-05, 'epoch': 5.98}\n",
            "{'loss': 0.2055, 'learning_rate': 2.2222222222222223e-05, 'epoch': 6.0}\n"
          ]
        },
        {
          "data": {
            "application/vnd.jupyter.widget-view+json": {
              "model_id": "3277689349724346ad84a6a66ed16d74",
              "version_major": 2,
              "version_minor": 0
            },
            "text/plain": [
              "  0%|          | 0/318 [00:00<?, ?it/s]"
            ]
          },
          "metadata": {},
          "output_type": "display_data"
        },
        {
          "name": "stdout",
          "output_type": "stream",
          "text": [
            "{'eval_loss': 0.37463584542274475, 'eval_accuracy': 0.8514150943396226, 'eval_runtime': 4.9828, 'eval_samples_per_second': 255.278, 'eval_steps_per_second': 63.819, 'epoch': 6.0}\n",
            "{'loss': 0.2376, 'learning_rate': 2.2144522144522145e-05, 'epoch': 6.01}\n",
            "{'loss': 0.226, 'learning_rate': 2.2066822066822067e-05, 'epoch': 6.02}\n",
            "{'loss': 0.2983, 'learning_rate': 2.1989121989121992e-05, 'epoch': 6.04}\n",
            "{'loss': 0.2962, 'learning_rate': 2.191142191142191e-05, 'epoch': 6.05}\n",
            "{'loss': 0.2501, 'learning_rate': 2.1833721833721836e-05, 'epoch': 6.07}\n",
            "{'loss': 0.3864, 'learning_rate': 2.1756021756021758e-05, 'epoch': 6.08}\n",
            "{'loss': 0.1608, 'learning_rate': 2.1678321678321677e-05, 'epoch': 6.09}\n",
            "{'loss': 0.2555, 'learning_rate': 2.1600621600621602e-05, 'epoch': 6.11}\n",
            "{'loss': 0.1928, 'learning_rate': 2.1522921522921524e-05, 'epoch': 6.12}\n",
            "{'loss': 0.1793, 'learning_rate': 2.1445221445221446e-05, 'epoch': 6.14}\n",
            "{'loss': 0.2341, 'learning_rate': 2.1367521367521368e-05, 'epoch': 6.15}\n",
            "{'loss': 0.2691, 'learning_rate': 2.128982128982129e-05, 'epoch': 6.16}\n",
            "{'loss': 0.177, 'learning_rate': 2.1212121212121215e-05, 'epoch': 6.18}\n",
            "{'loss': 0.1733, 'learning_rate': 2.1134421134421137e-05, 'epoch': 6.19}\n",
            "{'loss': 0.2223, 'learning_rate': 2.105672105672106e-05, 'epoch': 6.21}\n",
            "{'loss': 0.2766, 'learning_rate': 2.097902097902098e-05, 'epoch': 6.22}\n",
            "{'loss': 0.2532, 'learning_rate': 2.0901320901320902e-05, 'epoch': 6.23}\n",
            "{'loss': 0.3012, 'learning_rate': 2.0823620823620824e-05, 'epoch': 6.25}\n",
            "{'loss': 0.2448, 'learning_rate': 2.0745920745920746e-05, 'epoch': 6.26}\n",
            "{'loss': 0.2573, 'learning_rate': 2.066822066822067e-05, 'epoch': 6.28}\n",
            "{'loss': 0.2718, 'learning_rate': 2.0590520590520593e-05, 'epoch': 6.29}\n",
            "{'loss': 0.2061, 'learning_rate': 2.0512820512820512e-05, 'epoch': 6.3}\n",
            "{'loss': 0.2842, 'learning_rate': 2.0435120435120437e-05, 'epoch': 6.32}\n",
            "{'loss': 0.2876, 'learning_rate': 2.035742035742036e-05, 'epoch': 6.33}\n",
            "{'loss': 0.2344, 'learning_rate': 2.027972027972028e-05, 'epoch': 6.35}\n",
            "{'loss': 0.2666, 'learning_rate': 2.0202020202020203e-05, 'epoch': 6.36}\n",
            "{'loss': 0.1482, 'learning_rate': 2.0124320124320125e-05, 'epoch': 6.37}\n",
            "{'loss': 0.1629, 'learning_rate': 2.004662004662005e-05, 'epoch': 6.39}\n",
            "{'loss': 0.2808, 'learning_rate': 1.996891996891997e-05, 'epoch': 6.4}\n",
            "{'loss': 0.2347, 'learning_rate': 1.9891219891219894e-05, 'epoch': 6.42}\n",
            "{'loss': 0.2315, 'learning_rate': 1.9813519813519816e-05, 'epoch': 6.43}\n",
            "{'loss': 0.2421, 'learning_rate': 1.9735819735819734e-05, 'epoch': 6.44}\n",
            "{'loss': 0.3029, 'learning_rate': 1.965811965811966e-05, 'epoch': 6.46}\n",
            "{'loss': 0.2118, 'learning_rate': 1.958041958041958e-05, 'epoch': 6.47}\n",
            "{'loss': 0.2151, 'learning_rate': 1.9502719502719503e-05, 'epoch': 6.48}\n",
            "{'loss': 0.2179, 'learning_rate': 1.9425019425019425e-05, 'epoch': 6.5}\n",
            "{'loss': 0.2595, 'learning_rate': 1.9347319347319347e-05, 'epoch': 6.51}\n",
            "{'loss': 0.2071, 'learning_rate': 1.9269619269619272e-05, 'epoch': 6.53}\n",
            "{'loss': 0.1554, 'learning_rate': 1.919191919191919e-05, 'epoch': 6.54}\n",
            "{'loss': 0.1917, 'learning_rate': 1.9114219114219116e-05, 'epoch': 6.55}\n",
            "{'loss': 0.2981, 'learning_rate': 1.9036519036519038e-05, 'epoch': 6.57}\n",
            "{'loss': 0.1678, 'learning_rate': 1.895881895881896e-05, 'epoch': 6.58}\n",
            "{'loss': 0.3374, 'learning_rate': 1.888111888111888e-05, 'epoch': 6.6}\n",
            "{'loss': 0.1872, 'learning_rate': 1.8803418803418804e-05, 'epoch': 6.61}\n",
            "{'loss': 0.2745, 'learning_rate': 1.872571872571873e-05, 'epoch': 6.62}\n",
            "{'loss': 0.1822, 'learning_rate': 1.864801864801865e-05, 'epoch': 6.64}\n",
            "{'loss': 0.224, 'learning_rate': 1.857031857031857e-05, 'epoch': 6.65}\n",
            "{'loss': 0.2513, 'learning_rate': 1.8492618492618494e-05, 'epoch': 6.67}\n",
            "{'loss': 0.2648, 'learning_rate': 1.8414918414918416e-05, 'epoch': 6.68}\n",
            "{'loss': 0.1864, 'learning_rate': 1.8337218337218338e-05, 'epoch': 6.69}\n",
            "{'loss': 0.1937, 'learning_rate': 1.825951825951826e-05, 'epoch': 6.71}\n",
            "{'loss': 0.2081, 'learning_rate': 1.8181818181818182e-05, 'epoch': 6.72}\n",
            "{'loss': 0.187, 'learning_rate': 1.8104118104118107e-05, 'epoch': 6.74}\n",
            "{'loss': 0.2585, 'learning_rate': 1.8026418026418026e-05, 'epoch': 6.75}\n",
            "{'loss': 0.1822, 'learning_rate': 1.794871794871795e-05, 'epoch': 6.76}\n",
            "{'loss': 0.2142, 'learning_rate': 1.7871017871017873e-05, 'epoch': 6.78}\n",
            "{'loss': 0.2418, 'learning_rate': 1.779331779331779e-05, 'epoch': 6.79}\n",
            "{'loss': 0.2025, 'learning_rate': 1.7715617715617717e-05, 'epoch': 6.81}\n",
            "{'loss': 0.1925, 'learning_rate': 1.763791763791764e-05, 'epoch': 6.82}\n",
            "{'loss': 0.2231, 'learning_rate': 1.756021756021756e-05, 'epoch': 6.83}\n",
            "{'loss': 0.156, 'learning_rate': 1.7482517482517483e-05, 'epoch': 6.85}\n",
            "{'loss': 0.2264, 'learning_rate': 1.7404817404817404e-05, 'epoch': 6.86}\n",
            "{'loss': 0.1635, 'learning_rate': 1.732711732711733e-05, 'epoch': 6.88}\n",
            "{'loss': 0.2141, 'learning_rate': 1.7249417249417248e-05, 'epoch': 6.89}\n",
            "{'loss': 0.2128, 'learning_rate': 1.7171717171717173e-05, 'epoch': 6.9}\n",
            "{'loss': 0.1529, 'learning_rate': 1.7094017094017095e-05, 'epoch': 6.92}\n",
            "{'loss': 0.1851, 'learning_rate': 1.7016317016317017e-05, 'epoch': 6.93}\n",
            "{'loss': 0.163, 'learning_rate': 1.693861693861694e-05, 'epoch': 6.95}\n",
            "{'loss': 0.2208, 'learning_rate': 1.686091686091686e-05, 'epoch': 6.96}\n",
            "{'loss': 0.241, 'learning_rate': 1.6783216783216786e-05, 'epoch': 6.97}\n",
            "{'loss': 0.2526, 'learning_rate': 1.6705516705516705e-05, 'epoch': 6.99}\n"
          ]
        },
        {
          "data": {
            "application/vnd.jupyter.widget-view+json": {
              "model_id": "509205c050104625831b0dffd57ff59c",
              "version_major": 2,
              "version_minor": 0
            },
            "text/plain": [
              "  0%|          | 0/318 [00:00<?, ?it/s]"
            ]
          },
          "metadata": {},
          "output_type": "display_data"
        },
        {
          "name": "stdout",
          "output_type": "stream",
          "text": [
            "{'eval_loss': 0.2835550010204315, 'eval_accuracy': 0.8907232704402516, 'eval_runtime': 9.4354, 'eval_samples_per_second': 134.812, 'eval_steps_per_second': 33.703, 'epoch': 7.0}\n",
            "{'loss': 0.146, 'learning_rate': 1.6627816627816627e-05, 'epoch': 7.0}\n",
            "{'loss': 0.1414, 'learning_rate': 1.6550116550116552e-05, 'epoch': 7.02}\n",
            "{'loss': 0.271, 'learning_rate': 1.6472416472416474e-05, 'epoch': 7.03}\n",
            "{'loss': 0.1984, 'learning_rate': 1.6394716394716396e-05, 'epoch': 7.04}\n",
            "{'loss': 0.2371, 'learning_rate': 1.6317016317016318e-05, 'epoch': 7.06}\n",
            "{'loss': 0.1775, 'learning_rate': 1.623931623931624e-05, 'epoch': 7.07}\n",
            "{'loss': 0.2255, 'learning_rate': 1.6161616161616165e-05, 'epoch': 7.09}\n",
            "{'loss': 0.1779, 'learning_rate': 1.6083916083916083e-05, 'epoch': 7.1}\n",
            "{'loss': 0.1834, 'learning_rate': 1.600621600621601e-05, 'epoch': 7.11}\n",
            "{'loss': 0.1953, 'learning_rate': 1.592851592851593e-05, 'epoch': 7.13}\n",
            "{'loss': 0.2078, 'learning_rate': 1.585081585081585e-05, 'epoch': 7.14}\n",
            "{'loss': 0.1432, 'learning_rate': 1.5773115773115774e-05, 'epoch': 7.16}\n",
            "{'loss': 0.202, 'learning_rate': 1.5695415695415696e-05, 'epoch': 7.17}\n",
            "{'loss': 0.1439, 'learning_rate': 1.5617715617715618e-05, 'epoch': 7.18}\n",
            "{'loss': 0.1317, 'learning_rate': 1.554001554001554e-05, 'epoch': 7.2}\n",
            "{'loss': 0.2742, 'learning_rate': 1.5462315462315462e-05, 'epoch': 7.21}\n",
            "{'loss': 0.182, 'learning_rate': 1.5384615384615387e-05, 'epoch': 7.23}\n",
            "{'loss': 0.1137, 'learning_rate': 1.5306915306915306e-05, 'epoch': 7.24}\n",
            "{'loss': 0.2752, 'learning_rate': 1.522921522921523e-05, 'epoch': 7.25}\n",
            "{'loss': 0.0973, 'learning_rate': 1.5151515151515153e-05, 'epoch': 7.27}\n",
            "{'loss': 0.1957, 'learning_rate': 1.5073815073815076e-05, 'epoch': 7.28}\n",
            "{'loss': 0.2311, 'learning_rate': 1.4996114996114997e-05, 'epoch': 7.3}\n",
            "{'loss': 0.1834, 'learning_rate': 1.4918414918414919e-05, 'epoch': 7.31}\n",
            "{'loss': 0.2109, 'learning_rate': 1.4840714840714842e-05, 'epoch': 7.32}\n",
            "{'loss': 0.2363, 'learning_rate': 1.4763014763014762e-05, 'epoch': 7.34}\n",
            "{'loss': 0.241, 'learning_rate': 1.4685314685314686e-05, 'epoch': 7.35}\n",
            "{'loss': 0.206, 'learning_rate': 1.4607614607614608e-05, 'epoch': 7.37}\n",
            "{'loss': 0.1939, 'learning_rate': 1.4529914529914531e-05, 'epoch': 7.38}\n",
            "{'loss': 0.1357, 'learning_rate': 1.4452214452214452e-05, 'epoch': 7.39}\n",
            "{'loss': 0.1567, 'learning_rate': 1.4374514374514375e-05, 'epoch': 7.41}\n",
            "{'loss': 0.2095, 'learning_rate': 1.4296814296814299e-05, 'epoch': 7.42}\n",
            "{'loss': 0.1864, 'learning_rate': 1.4219114219114219e-05, 'epoch': 7.44}\n",
            "{'loss': 0.1545, 'learning_rate': 1.4141414141414141e-05, 'epoch': 7.45}\n",
            "{'loss': 0.1937, 'learning_rate': 1.4063714063714064e-05, 'epoch': 7.46}\n",
            "{'loss': 0.1704, 'learning_rate': 1.3986013986013988e-05, 'epoch': 7.48}\n",
            "{'loss': 0.2986, 'learning_rate': 1.3908313908313908e-05, 'epoch': 7.49}\n",
            "{'loss': 0.1938, 'learning_rate': 1.3830613830613832e-05, 'epoch': 7.51}\n",
            "{'loss': 0.1779, 'learning_rate': 1.3752913752913754e-05, 'epoch': 7.52}\n",
            "{'loss': 0.1412, 'learning_rate': 1.3675213675213677e-05, 'epoch': 7.53}\n",
            "{'loss': 0.1824, 'learning_rate': 1.3597513597513598e-05, 'epoch': 7.55}\n",
            "{'loss': 0.1371, 'learning_rate': 1.3519813519813521e-05, 'epoch': 7.56}\n",
            "{'loss': 0.1948, 'learning_rate': 1.3442113442113443e-05, 'epoch': 7.58}\n",
            "{'loss': 0.1406, 'learning_rate': 1.3364413364413363e-05, 'epoch': 7.59}\n",
            "{'loss': 0.2131, 'learning_rate': 1.3286713286713287e-05, 'epoch': 7.6}\n",
            "{'loss': 0.2369, 'learning_rate': 1.320901320901321e-05, 'epoch': 7.62}\n",
            "{'loss': 0.1824, 'learning_rate': 1.3131313131313134e-05, 'epoch': 7.63}\n",
            "{'loss': 0.1791, 'learning_rate': 1.3053613053613054e-05, 'epoch': 7.65}\n",
            "{'loss': 0.2213, 'learning_rate': 1.2975912975912976e-05, 'epoch': 7.66}\n",
            "{'loss': 0.2337, 'learning_rate': 1.28982128982129e-05, 'epoch': 7.67}\n",
            "{'loss': 0.1697, 'learning_rate': 1.282051282051282e-05, 'epoch': 7.69}\n",
            "{'loss': 0.1987, 'learning_rate': 1.2742812742812743e-05, 'epoch': 7.7}\n",
            "{'loss': 0.207, 'learning_rate': 1.2665112665112665e-05, 'epoch': 7.71}\n",
            "{'loss': 0.1568, 'learning_rate': 1.2587412587412589e-05, 'epoch': 7.73}\n",
            "{'loss': 0.2489, 'learning_rate': 1.2509712509712509e-05, 'epoch': 7.74}\n",
            "{'loss': 0.1571, 'learning_rate': 1.2432012432012433e-05, 'epoch': 7.76}\n",
            "{'loss': 0.146, 'learning_rate': 1.2354312354312355e-05, 'epoch': 7.77}\n",
            "{'loss': 0.2007, 'learning_rate': 1.2276612276612278e-05, 'epoch': 7.78}\n",
            "{'loss': 0.1296, 'learning_rate': 1.2198912198912198e-05, 'epoch': 7.8}\n",
            "{'loss': 0.1814, 'learning_rate': 1.2121212121212122e-05, 'epoch': 7.81}\n",
            "{'loss': 0.149, 'learning_rate': 1.2043512043512044e-05, 'epoch': 7.83}\n",
            "{'loss': 0.1743, 'learning_rate': 1.1965811965811967e-05, 'epoch': 7.84}\n",
            "{'loss': 0.2032, 'learning_rate': 1.188811188811189e-05, 'epoch': 7.85}\n",
            "{'loss': 0.1943, 'learning_rate': 1.1810411810411811e-05, 'epoch': 7.87}\n",
            "{'loss': 0.2298, 'learning_rate': 1.1732711732711733e-05, 'epoch': 7.88}\n",
            "{'loss': 0.2406, 'learning_rate': 1.1655011655011655e-05, 'epoch': 7.9}\n",
            "{'loss': 0.2151, 'learning_rate': 1.1577311577311579e-05, 'epoch': 7.91}\n",
            "{'loss': 0.152, 'learning_rate': 1.14996114996115e-05, 'epoch': 7.92}\n",
            "{'loss': 0.2662, 'learning_rate': 1.1421911421911422e-05, 'epoch': 7.94}\n",
            "{'loss': 0.1945, 'learning_rate': 1.1344211344211344e-05, 'epoch': 7.95}\n",
            "{'loss': 0.1218, 'learning_rate': 1.1266511266511268e-05, 'epoch': 7.97}\n",
            "{'loss': 0.2174, 'learning_rate': 1.118881118881119e-05, 'epoch': 7.98}\n",
            "{'loss': 0.1262, 'learning_rate': 1.1111111111111112e-05, 'epoch': 7.99}\n"
          ]
        },
        {
          "data": {
            "application/vnd.jupyter.widget-view+json": {
              "model_id": "910cddd7492545179cef54e533588372",
              "version_major": 2,
              "version_minor": 0
            },
            "text/plain": [
              "  0%|          | 0/318 [00:00<?, ?it/s]"
            ]
          },
          "metadata": {},
          "output_type": "display_data"
        },
        {
          "name": "stdout",
          "output_type": "stream",
          "text": [
            "{'eval_loss': 0.27977997064590454, 'eval_accuracy': 0.8954402515723271, 'eval_runtime': 5.0118, 'eval_samples_per_second': 253.801, 'eval_steps_per_second': 63.45, 'epoch': 8.0}\n",
            "{'loss': 0.1821, 'learning_rate': 1.1033411033411034e-05, 'epoch': 8.01}\n",
            "{'loss': 0.178, 'learning_rate': 1.0955710955710955e-05, 'epoch': 8.02}\n",
            "{'loss': 0.1503, 'learning_rate': 1.0878010878010879e-05, 'epoch': 8.04}\n",
            "{'loss': 0.1729, 'learning_rate': 1.0800310800310801e-05, 'epoch': 8.05}\n",
            "{'loss': 0.2206, 'learning_rate': 1.0722610722610723e-05, 'epoch': 8.06}\n",
            "{'loss': 0.1739, 'learning_rate': 1.0644910644910645e-05, 'epoch': 8.08}\n",
            "{'loss': 0.1034, 'learning_rate': 1.0567210567210568e-05, 'epoch': 8.09}\n",
            "{'loss': 0.1535, 'learning_rate': 1.048951048951049e-05, 'epoch': 8.11}\n",
            "{'loss': 0.2187, 'learning_rate': 1.0411810411810412e-05, 'epoch': 8.12}\n",
            "{'loss': 0.2155, 'learning_rate': 1.0334110334110336e-05, 'epoch': 8.13}\n",
            "{'loss': 0.0786, 'learning_rate': 1.0256410256410256e-05, 'epoch': 8.15}\n",
            "{'loss': 0.1243, 'learning_rate': 1.017871017871018e-05, 'epoch': 8.16}\n",
            "{'loss': 0.1401, 'learning_rate': 1.0101010101010101e-05, 'epoch': 8.18}\n",
            "{'loss': 0.1429, 'learning_rate': 1.0023310023310025e-05, 'epoch': 8.19}\n",
            "{'loss': 0.2535, 'learning_rate': 9.945609945609947e-06, 'epoch': 8.2}\n",
            "{'loss': 0.1614, 'learning_rate': 9.867909867909867e-06, 'epoch': 8.22}\n",
            "{'loss': 0.1802, 'learning_rate': 9.79020979020979e-06, 'epoch': 8.23}\n",
            "{'loss': 0.1958, 'learning_rate': 9.712509712509713e-06, 'epoch': 8.25}\n",
            "{'loss': 0.2488, 'learning_rate': 9.634809634809636e-06, 'epoch': 8.26}\n",
            "{'loss': 0.2064, 'learning_rate': 9.557109557109558e-06, 'epoch': 8.27}\n",
            "{'loss': 0.1173, 'learning_rate': 9.47940947940948e-06, 'epoch': 8.29}\n",
            "{'loss': 0.1416, 'learning_rate': 9.401709401709402e-06, 'epoch': 8.3}\n",
            "{'loss': 0.2222, 'learning_rate': 9.324009324009325e-06, 'epoch': 8.32}\n",
            "{'loss': 0.1422, 'learning_rate': 9.246309246309247e-06, 'epoch': 8.33}\n",
            "{'loss': 0.1761, 'learning_rate': 9.168609168609169e-06, 'epoch': 8.34}\n",
            "{'loss': 0.0997, 'learning_rate': 9.090909090909091e-06, 'epoch': 8.36}\n",
            "{'loss': 0.1845, 'learning_rate': 9.013209013209013e-06, 'epoch': 8.37}\n",
            "{'loss': 0.2946, 'learning_rate': 8.935508935508937e-06, 'epoch': 8.39}\n",
            "{'loss': 0.1582, 'learning_rate': 8.857808857808858e-06, 'epoch': 8.4}\n",
            "{'loss': 0.1422, 'learning_rate': 8.78010878010878e-06, 'epoch': 8.41}\n",
            "{'loss': 0.1579, 'learning_rate': 8.702408702408702e-06, 'epoch': 8.43}\n",
            "{'loss': 0.1027, 'learning_rate': 8.624708624708624e-06, 'epoch': 8.44}\n",
            "{'loss': 0.1938, 'learning_rate': 8.547008547008548e-06, 'epoch': 8.46}\n",
            "{'loss': 0.124, 'learning_rate': 8.46930846930847e-06, 'epoch': 8.47}\n",
            "{'loss': 0.1201, 'learning_rate': 8.391608391608393e-06, 'epoch': 8.48}\n",
            "{'loss': 0.229, 'learning_rate': 8.313908313908313e-06, 'epoch': 8.5}\n",
            "{'loss': 0.1668, 'learning_rate': 8.236208236208237e-06, 'epoch': 8.51}\n",
            "{'loss': 0.1446, 'learning_rate': 8.158508158508159e-06, 'epoch': 8.53}\n",
            "{'loss': 0.1413, 'learning_rate': 8.080808080808082e-06, 'epoch': 8.54}\n",
            "{'loss': 0.1329, 'learning_rate': 8.003108003108004e-06, 'epoch': 8.55}\n",
            "{'loss': 0.1391, 'learning_rate': 7.925407925407925e-06, 'epoch': 8.57}\n",
            "{'loss': 0.0853, 'learning_rate': 7.847707847707848e-06, 'epoch': 8.58}\n",
            "{'loss': 0.1906, 'learning_rate': 7.77000777000777e-06, 'epoch': 8.6}\n",
            "{'loss': 0.2199, 'learning_rate': 7.692307692307694e-06, 'epoch': 8.61}\n",
            "{'loss': 0.1237, 'learning_rate': 7.614607614607615e-06, 'epoch': 8.62}\n",
            "{'loss': 0.1518, 'learning_rate': 7.536907536907538e-06, 'epoch': 8.64}\n",
            "{'loss': 0.1337, 'learning_rate': 7.459207459207459e-06, 'epoch': 8.65}\n",
            "{'loss': 0.2222, 'learning_rate': 7.381507381507381e-06, 'epoch': 8.67}\n",
            "{'loss': 0.1707, 'learning_rate': 7.303807303807304e-06, 'epoch': 8.68}\n",
            "{'loss': 0.1319, 'learning_rate': 7.226107226107226e-06, 'epoch': 8.69}\n",
            "{'loss': 0.2012, 'learning_rate': 7.148407148407149e-06, 'epoch': 8.71}\n",
            "{'loss': 0.179, 'learning_rate': 7.0707070707070704e-06, 'epoch': 8.72}\n",
            "{'loss': 0.2119, 'learning_rate': 6.993006993006994e-06, 'epoch': 8.74}\n",
            "{'loss': 0.1583, 'learning_rate': 6.915306915306916e-06, 'epoch': 8.75}\n",
            "{'loss': 0.0682, 'learning_rate': 6.837606837606839e-06, 'epoch': 8.76}\n",
            "{'loss': 0.1968, 'learning_rate': 6.7599067599067605e-06, 'epoch': 8.78}\n",
            "{'loss': 0.1391, 'learning_rate': 6.682206682206682e-06, 'epoch': 8.79}\n",
            "{'loss': 0.1552, 'learning_rate': 6.604506604506605e-06, 'epoch': 8.81}\n",
            "{'loss': 0.1575, 'learning_rate': 6.526806526806527e-06, 'epoch': 8.82}\n",
            "{'loss': 0.2091, 'learning_rate': 6.44910644910645e-06, 'epoch': 8.83}\n",
            "{'loss': 0.1121, 'learning_rate': 6.371406371406372e-06, 'epoch': 8.85}\n",
            "{'loss': 0.2129, 'learning_rate': 6.2937062937062944e-06, 'epoch': 8.86}\n",
            "{'loss': 0.1191, 'learning_rate': 6.216006216006216e-06, 'epoch': 8.87}\n",
            "{'loss': 0.1382, 'learning_rate': 6.138306138306139e-06, 'epoch': 8.89}\n",
            "{'loss': 0.0707, 'learning_rate': 6.060606060606061e-06, 'epoch': 8.9}\n",
            "{'loss': 0.15, 'learning_rate': 5.982905982905984e-06, 'epoch': 8.92}\n",
            "{'loss': 0.2155, 'learning_rate': 5.905205905205906e-06, 'epoch': 8.93}\n",
            "{'loss': 0.1694, 'learning_rate': 5.8275058275058275e-06, 'epoch': 8.94}\n",
            "{'loss': 0.1728, 'learning_rate': 5.74980574980575e-06, 'epoch': 8.96}\n",
            "{'loss': 0.1513, 'learning_rate': 5.672105672105672e-06, 'epoch': 8.97}\n",
            "{'loss': 0.1332, 'learning_rate': 5.594405594405595e-06, 'epoch': 8.99}\n"
          ]
        },
        {
          "data": {
            "application/vnd.jupyter.widget-view+json": {
              "model_id": "adbb74db3ae348a69de9f473beb06718",
              "version_major": 2,
              "version_minor": 0
            },
            "text/plain": [
              "  0%|          | 0/318 [00:00<?, ?it/s]"
            ]
          },
          "metadata": {},
          "output_type": "display_data"
        },
        {
          "name": "stdout",
          "output_type": "stream",
          "text": [
            "{'eval_loss': 0.23014533519744873, 'eval_accuracy': 0.9158805031446541, 'eval_runtime': 9.0361, 'eval_samples_per_second': 140.768, 'eval_steps_per_second': 35.192, 'epoch': 9.0}\n",
            "{'loss': 0.1255, 'learning_rate': 5.516705516705517e-06, 'epoch': 9.0}\n",
            "{'loss': 0.1976, 'learning_rate': 5.4390054390054395e-06, 'epoch': 9.01}\n",
            "{'loss': 0.115, 'learning_rate': 5.361305361305361e-06, 'epoch': 9.03}\n",
            "{'loss': 0.1257, 'learning_rate': 5.283605283605284e-06, 'epoch': 9.04}\n",
            "{'loss': 0.1573, 'learning_rate': 5.205905205905206e-06, 'epoch': 9.06}\n",
            "{'loss': 0.1423, 'learning_rate': 5.128205128205128e-06, 'epoch': 9.07}\n",
            "{'loss': 0.0864, 'learning_rate': 5.050505050505051e-06, 'epoch': 9.08}\n",
            "{'loss': 0.0992, 'learning_rate': 4.972804972804973e-06, 'epoch': 9.1}\n",
            "{'loss': 0.1676, 'learning_rate': 4.895104895104895e-06, 'epoch': 9.11}\n",
            "{'loss': 0.1576, 'learning_rate': 4.817404817404818e-06, 'epoch': 9.13}\n",
            "{'loss': 0.241, 'learning_rate': 4.73970473970474e-06, 'epoch': 9.14}\n",
            "{'loss': 0.162, 'learning_rate': 4.662004662004663e-06, 'epoch': 9.15}\n",
            "{'loss': 0.1322, 'learning_rate': 4.5843045843045846e-06, 'epoch': 9.17}\n",
            "{'loss': 0.0768, 'learning_rate': 4.5066045066045065e-06, 'epoch': 9.18}\n",
            "{'loss': 0.1504, 'learning_rate': 4.428904428904429e-06, 'epoch': 9.2}\n",
            "{'loss': 0.1581, 'learning_rate': 4.351204351204351e-06, 'epoch': 9.21}\n",
            "{'loss': 0.1165, 'learning_rate': 4.273504273504274e-06, 'epoch': 9.22}\n",
            "{'loss': 0.1921, 'learning_rate': 4.195804195804197e-06, 'epoch': 9.24}\n",
            "{'loss': 0.1981, 'learning_rate': 4.1181041181041185e-06, 'epoch': 9.25}\n",
            "{'loss': 0.0705, 'learning_rate': 4.040404040404041e-06, 'epoch': 9.27}\n",
            "{'loss': 0.0781, 'learning_rate': 3.962703962703962e-06, 'epoch': 9.28}\n",
            "{'loss': 0.1795, 'learning_rate': 3.885003885003885e-06, 'epoch': 9.29}\n",
            "{'loss': 0.225, 'learning_rate': 3.8073038073038073e-06, 'epoch': 9.31}\n",
            "{'loss': 0.1078, 'learning_rate': 3.7296037296037296e-06, 'epoch': 9.32}\n",
            "{'loss': 0.1013, 'learning_rate': 3.651903651903652e-06, 'epoch': 9.34}\n",
            "{'loss': 0.1185, 'learning_rate': 3.5742035742035747e-06, 'epoch': 9.35}\n",
            "{'loss': 0.1699, 'learning_rate': 3.496503496503497e-06, 'epoch': 9.36}\n",
            "{'loss': 0.1462, 'learning_rate': 3.4188034188034193e-06, 'epoch': 9.38}\n",
            "{'loss': 0.1261, 'learning_rate': 3.341103341103341e-06, 'epoch': 9.39}\n",
            "{'loss': 0.1685, 'learning_rate': 3.2634032634032635e-06, 'epoch': 9.41}\n",
            "{'loss': 0.1261, 'learning_rate': 3.185703185703186e-06, 'epoch': 9.42}\n",
            "{'loss': 0.1836, 'learning_rate': 3.108003108003108e-06, 'epoch': 9.43}\n",
            "{'loss': 0.0665, 'learning_rate': 3.0303030303030305e-06, 'epoch': 9.45}\n",
            "{'loss': 0.1142, 'learning_rate': 2.952602952602953e-06, 'epoch': 9.46}\n",
            "{'loss': 0.0963, 'learning_rate': 2.874902874902875e-06, 'epoch': 9.48}\n",
            "{'loss': 0.0996, 'learning_rate': 2.7972027972027974e-06, 'epoch': 9.49}\n",
            "{'loss': 0.1769, 'learning_rate': 2.7195027195027198e-06, 'epoch': 9.5}\n",
            "{'loss': 0.2328, 'learning_rate': 2.641802641802642e-06, 'epoch': 9.52}\n",
            "{'loss': 0.128, 'learning_rate': 2.564102564102564e-06, 'epoch': 9.53}\n",
            "{'loss': 0.1061, 'learning_rate': 2.4864024864024867e-06, 'epoch': 9.55}\n",
            "{'loss': 0.1588, 'learning_rate': 2.408702408702409e-06, 'epoch': 9.56}\n",
            "{'loss': 0.0802, 'learning_rate': 2.3310023310023313e-06, 'epoch': 9.57}\n",
            "{'loss': 0.1888, 'learning_rate': 2.2533022533022532e-06, 'epoch': 9.59}\n",
            "{'loss': 0.1232, 'learning_rate': 2.1756021756021755e-06, 'epoch': 9.6}\n",
            "{'loss': 0.1284, 'learning_rate': 2.0979020979020983e-06, 'epoch': 9.62}\n",
            "{'loss': 0.1357, 'learning_rate': 2.0202020202020206e-06, 'epoch': 9.63}\n",
            "{'loss': 0.1935, 'learning_rate': 1.9425019425019425e-06, 'epoch': 9.64}\n",
            "{'loss': 0.1893, 'learning_rate': 1.8648018648018648e-06, 'epoch': 9.66}\n",
            "{'loss': 0.1138, 'learning_rate': 1.7871017871017873e-06, 'epoch': 9.67}\n",
            "{'loss': 0.1003, 'learning_rate': 1.7094017094017097e-06, 'epoch': 9.69}\n",
            "{'loss': 0.0927, 'learning_rate': 1.6317016317016318e-06, 'epoch': 9.7}\n",
            "{'loss': 0.1438, 'learning_rate': 1.554001554001554e-06, 'epoch': 9.71}\n",
            "{'loss': 0.1471, 'learning_rate': 1.4763014763014764e-06, 'epoch': 9.73}\n",
            "{'loss': 0.1283, 'learning_rate': 1.3986013986013987e-06, 'epoch': 9.74}\n",
            "{'loss': 0.2014, 'learning_rate': 1.320901320901321e-06, 'epoch': 9.76}\n",
            "{'loss': 0.1036, 'learning_rate': 1.2432012432012434e-06, 'epoch': 9.77}\n",
            "{'loss': 0.159, 'learning_rate': 1.1655011655011657e-06, 'epoch': 9.78}\n",
            "{'loss': 0.1281, 'learning_rate': 1.0878010878010878e-06, 'epoch': 9.8}\n",
            "{'loss': 0.1285, 'learning_rate': 1.0101010101010103e-06, 'epoch': 9.81}\n",
            "{'loss': 0.1335, 'learning_rate': 9.324009324009324e-07, 'epoch': 9.83}\n",
            "{'loss': 0.1335, 'learning_rate': 8.547008547008548e-07, 'epoch': 9.84}\n",
            "{'loss': 0.1122, 'learning_rate': 7.77000777000777e-07, 'epoch': 9.85}\n",
            "{'loss': 0.2072, 'learning_rate': 6.993006993006994e-07, 'epoch': 9.87}\n",
            "{'loss': 0.1633, 'learning_rate': 6.216006216006217e-07, 'epoch': 9.88}\n",
            "{'loss': 0.0599, 'learning_rate': 5.439005439005439e-07, 'epoch': 9.9}\n",
            "{'loss': 0.0661, 'learning_rate': 4.662004662004662e-07, 'epoch': 9.91}\n",
            "{'loss': 0.1531, 'learning_rate': 3.885003885003885e-07, 'epoch': 9.92}\n",
            "{'loss': 0.2305, 'learning_rate': 3.1080031080031084e-07, 'epoch': 9.94}\n",
            "{'loss': 0.1787, 'learning_rate': 2.331002331002331e-07, 'epoch': 9.95}\n",
            "{'loss': 0.1693, 'learning_rate': 1.5540015540015542e-07, 'epoch': 9.97}\n",
            "{'loss': 0.1137, 'learning_rate': 7.770007770007771e-08, 'epoch': 9.98}\n",
            "{'loss': 0.0702, 'learning_rate': 0.0, 'epoch': 9.99}\n"
          ]
        },
        {
          "data": {
            "application/vnd.jupyter.widget-view+json": {
              "model_id": "6855757792a643a9bf21229cb960b484",
              "version_major": 2,
              "version_minor": 0
            },
            "text/plain": [
              "  0%|          | 0/318 [00:00<?, ?it/s]"
            ]
          },
          "metadata": {},
          "output_type": "display_data"
        },
        {
          "name": "stdout",
          "output_type": "stream",
          "text": [
            "{'eval_loss': 0.21270409226417542, 'eval_accuracy': 0.9261006289308176, 'eval_runtime': 5.5086, 'eval_samples_per_second': 230.91, 'eval_steps_per_second': 57.728, 'epoch': 9.99}\n",
            "{'train_runtime': 2384.637, 'train_samples_per_second': 48.003, 'train_steps_per_second': 2.998, 'train_loss': 0.394019101883148, 'epoch': 9.99}\n"
          ]
        },
        {
          "data": {
            "text/plain": [
              "TrainOutput(global_step=7150, training_loss=0.394019101883148, metrics={'train_runtime': 2384.637, 'train_samples_per_second': 48.003, 'train_steps_per_second': 2.998, 'train_loss': 0.394019101883148, 'epoch': 9.99})"
            ]
          },
          "execution_count": 19,
          "metadata": {},
          "output_type": "execute_result"
        }
      ],
      "source": [
        "training_args = TrainingArguments(output_dir=\"alzheimer-image-classification-google-vit-base-patch16\",\n",
        "                                  remove_unused_columns=False,\n",
        "                                  evaluation_strategy=\"epoch\",\n",
        "                                  overwrite_output_dir=True,\n",
        "                                  save_strategy=\"epoch\",\n",
        "                                  learning_rate=5e-5,\n",
        "                                  per_device_train_batch_size=4,\n",
        "                                  gradient_accumulation_steps=4,\n",
        "                                  per_device_eval_batch_size=4,\n",
        "                                  num_train_epochs=10,\n",
        "                                  warmup_ratio=0.1,\n",
        "                                  logging_steps=10,\n",
        "                                  load_best_model_at_end=True,\n",
        "                                  metric_for_best_model=\"accuracy\",\n",
        "                                  report_to='tensorboard',\n",
        "                                  push_to_hub=True)\n",
        "\n",
        "trainer = Trainer(model=model,\n",
        "                  args=training_args,\n",
        "                  data_collator=data_collator,\n",
        "                  train_dataset=train_ds,\n",
        "                  eval_dataset=val_ds,\n",
        "                  tokenizer=image_processor,\n",
        "                  compute_metrics=compute_metrics)\n",
        "\n",
        "trainer.train()"
      ]
    },
    {
      "cell_type": "code",
      "execution_count": 20,
      "metadata": {},
      "outputs": [
        {
          "name": "stderr",
          "output_type": "stream",
          "text": [
            "Several commits (2) will be pushed upstream.\n",
            "The progress bars may be unreliable.\n"
          ]
        },
        {
          "data": {
            "application/vnd.jupyter.widget-view+json": {
              "model_id": "0529a61a8f7e4a9e86c5f6c3b7ef2ff9",
              "version_major": 2,
              "version_minor": 0
            },
            "text/plain": [
              "Upload file pytorch_model.bin:   0%|          | 1.00/327M [00:00<?, ?B/s]"
            ]
          },
          "metadata": {},
          "output_type": "display_data"
        },
        {
          "data": {
            "application/vnd.jupyter.widget-view+json": {
              "model_id": "843b356130d647be8c66d5e3438bc82e",
              "version_major": 2,
              "version_minor": 0
            },
            "text/plain": [
              "Upload file runs/Aug14_17-07-38_AhmadHakami/events.out.tfevents.1692022063.AhmadHakami.5056.0:   0%|          …"
            ]
          },
          "metadata": {},
          "output_type": "display_data"
        },
        {
          "name": "stderr",
          "output_type": "stream",
          "text": [
            "To https://huggingface.co/AhmadHakami/alzheimer-image-classification-google-vit-base-patch16\n",
            "   1ce4208..b51bc55  main -> main\n",
            "\n",
            "To https://huggingface.co/AhmadHakami/alzheimer-image-classification-google-vit-base-patch16\n",
            "   b51bc55..fac7c42  main -> main\n",
            "\n"
          ]
        },
        {
          "data": {
            "text/plain": [
              "'https://huggingface.co/AhmadHakami/alzheimer-image-classification-google-vit-base-patch16/commit/b51bc553c28d79e0a286f4ce5938893000591000'"
            ]
          },
          "execution_count": 20,
          "metadata": {},
          "output_type": "execute_result"
        }
      ],
      "source": [
        "trainer.push_to_hub()"
      ]
    }
  ],
  "metadata": {
    "colab": {
      "provenance": []
    },
    "kernelspec": {
      "display_name": "sic2",
      "language": "python",
      "name": "python3"
    },
    "language_info": {
      "codemirror_mode": {
        "name": "ipython",
        "version": 3
      },
      "file_extension": ".py",
      "mimetype": "text/x-python",
      "name": "python",
      "nbconvert_exporter": "python",
      "pygments_lexer": "ipython3",
      "version": "3.11.4"
    }
  },
  "nbformat": 4,
  "nbformat_minor": 0
}
